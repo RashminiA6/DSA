{
 "cells": [
  {
   "cell_type": "markdown",
   "id": "3e53b852",
   "metadata": {},
   "source": [
    "Project 1: Exploratory Data Analysis for data set - U.S. Chronic Disease Indicators (CDI)\n",
    "Data Set: https://data.cdc.gov/api/views/g4ie-h725/rows.csv?accessType=DOWNLOAD\n",
    "This notebook aims to validate the hypothesis that the probability of a disease to happen is related to where it happened, the location and estimate the most occured diseases and risk variables that are affecting public health."
   ]
  },
  {
   "cell_type": "code",
   "execution_count": 1,
   "id": "758bc06d",
   "metadata": {},
   "outputs": [
    {
     "data": {
      "text/html": [
       "        <script type=\"text/javascript\">\n",
       "        window.PlotlyConfig = {MathJaxConfig: 'local'};\n",
       "        if (window.MathJax && window.MathJax.Hub && window.MathJax.Hub.Config) {window.MathJax.Hub.Config({SVG: {font: \"STIX-Web\"}});}\n",
       "        if (typeof require !== 'undefined') {\n",
       "        require.undef(\"plotly\");\n",
       "        requirejs.config({\n",
       "            paths: {\n",
       "                'plotly': ['https://cdn.plot.ly/plotly-2.12.1.min']\n",
       "            }\n",
       "        });\n",
       "        require(['plotly'], function(Plotly) {\n",
       "            window._Plotly = Plotly;\n",
       "        });\n",
       "        }\n",
       "        </script>\n",
       "        "
      ]
     },
     "metadata": {},
     "output_type": "display_data"
    }
   ],
   "source": [
    "import numpy as np\n",
    "import pandas as pd\n",
    "\n",
    "#Visualization \n",
    "# plotly\n",
    "import matplotlib.pyplot as plt\n",
    "import chart_studio.plotly as py\n",
    "from plotly.offline import init_notebook_mode, iplot\n",
    "init_notebook_mode(connected=True)\n",
    "import plotly.graph_objs as go\n",
    "\n",
    "#Utils \n",
    "import datetime\n",
    "import warnings\n",
    "\n",
    "# File format \n",
    "import csv\n",
    "import json\n",
    "import xml.etree.ElementTree as ET\n",
    "warnings.filterwarnings(\"ignore\")"
   ]
  },
  {
   "cell_type": "code",
   "execution_count": 2,
   "id": "d530a8e6",
   "metadata": {},
   "outputs": [],
   "source": [
    "#Read the CSV file.\n",
    "df = pd.read_csv(\"C:/Users/Rashmini/Downloads/U.S._Chronic_Disease_Indicators__CDI_ (1).csv\", sep=',')"
   ]
  },
  {
   "cell_type": "code",
   "execution_count": 3,
   "id": "0a871bbb",
   "metadata": {},
   "outputs": [
    {
     "data": {
      "text/html": [
       "<div>\n",
       "<style scoped>\n",
       "    .dataframe tbody tr th:only-of-type {\n",
       "        vertical-align: middle;\n",
       "    }\n",
       "\n",
       "    .dataframe tbody tr th {\n",
       "        vertical-align: top;\n",
       "    }\n",
       "\n",
       "    .dataframe thead th {\n",
       "        text-align: right;\n",
       "    }\n",
       "</style>\n",
       "<table border=\"1\" class=\"dataframe\">\n",
       "  <thead>\n",
       "    <tr style=\"text-align: right;\">\n",
       "      <th></th>\n",
       "      <th>YearStart</th>\n",
       "      <th>YearEnd</th>\n",
       "      <th>LocationAbbr</th>\n",
       "      <th>LocationDesc</th>\n",
       "      <th>DataSource</th>\n",
       "      <th>Topic</th>\n",
       "      <th>Question</th>\n",
       "      <th>Response</th>\n",
       "      <th>DataValueUnit</th>\n",
       "      <th>DataValueType</th>\n",
       "      <th>...</th>\n",
       "      <th>LocationID</th>\n",
       "      <th>TopicID</th>\n",
       "      <th>QuestionID</th>\n",
       "      <th>DataValueTypeID</th>\n",
       "      <th>StratificationCategoryID1</th>\n",
       "      <th>StratificationID1</th>\n",
       "      <th>StratificationCategoryID2</th>\n",
       "      <th>StratificationID2</th>\n",
       "      <th>StratificationCategoryID3</th>\n",
       "      <th>StratificationID3</th>\n",
       "    </tr>\n",
       "  </thead>\n",
       "  <tbody>\n",
       "    <tr>\n",
       "      <th>0</th>\n",
       "      <td>2014</td>\n",
       "      <td>2014</td>\n",
       "      <td>AR</td>\n",
       "      <td>Arkansas</td>\n",
       "      <td>SEDD; SID</td>\n",
       "      <td>Asthma</td>\n",
       "      <td>Hospitalizations for asthma</td>\n",
       "      <td>NaN</td>\n",
       "      <td>NaN</td>\n",
       "      <td>Number</td>\n",
       "      <td>...</td>\n",
       "      <td>5</td>\n",
       "      <td>AST</td>\n",
       "      <td>AST3_1</td>\n",
       "      <td>NMBR</td>\n",
       "      <td>GENDER</td>\n",
       "      <td>GENM</td>\n",
       "      <td>NaN</td>\n",
       "      <td>NaN</td>\n",
       "      <td>NaN</td>\n",
       "      <td>NaN</td>\n",
       "    </tr>\n",
       "    <tr>\n",
       "      <th>1</th>\n",
       "      <td>2018</td>\n",
       "      <td>2018</td>\n",
       "      <td>CO</td>\n",
       "      <td>Colorado</td>\n",
       "      <td>SEDD; SID</td>\n",
       "      <td>Asthma</td>\n",
       "      <td>Hospitalizations for asthma</td>\n",
       "      <td>NaN</td>\n",
       "      <td>NaN</td>\n",
       "      <td>Number</td>\n",
       "      <td>...</td>\n",
       "      <td>8</td>\n",
       "      <td>AST</td>\n",
       "      <td>AST3_1</td>\n",
       "      <td>NMBR</td>\n",
       "      <td>OVERALL</td>\n",
       "      <td>OVR</td>\n",
       "      <td>NaN</td>\n",
       "      <td>NaN</td>\n",
       "      <td>NaN</td>\n",
       "      <td>NaN</td>\n",
       "    </tr>\n",
       "    <tr>\n",
       "      <th>2</th>\n",
       "      <td>2018</td>\n",
       "      <td>2018</td>\n",
       "      <td>DC</td>\n",
       "      <td>District of Columbia</td>\n",
       "      <td>SEDD; SID</td>\n",
       "      <td>Asthma</td>\n",
       "      <td>Hospitalizations for asthma</td>\n",
       "      <td>NaN</td>\n",
       "      <td>NaN</td>\n",
       "      <td>Number</td>\n",
       "      <td>...</td>\n",
       "      <td>11</td>\n",
       "      <td>AST</td>\n",
       "      <td>AST3_1</td>\n",
       "      <td>NMBR</td>\n",
       "      <td>OVERALL</td>\n",
       "      <td>OVR</td>\n",
       "      <td>NaN</td>\n",
       "      <td>NaN</td>\n",
       "      <td>NaN</td>\n",
       "      <td>NaN</td>\n",
       "    </tr>\n",
       "    <tr>\n",
       "      <th>3</th>\n",
       "      <td>2017</td>\n",
       "      <td>2017</td>\n",
       "      <td>GA</td>\n",
       "      <td>Georgia</td>\n",
       "      <td>SEDD; SID</td>\n",
       "      <td>Asthma</td>\n",
       "      <td>Hospitalizations for asthma</td>\n",
       "      <td>NaN</td>\n",
       "      <td>NaN</td>\n",
       "      <td>Number</td>\n",
       "      <td>...</td>\n",
       "      <td>13</td>\n",
       "      <td>AST</td>\n",
       "      <td>AST3_1</td>\n",
       "      <td>NMBR</td>\n",
       "      <td>GENDER</td>\n",
       "      <td>GENF</td>\n",
       "      <td>NaN</td>\n",
       "      <td>NaN</td>\n",
       "      <td>NaN</td>\n",
       "      <td>NaN</td>\n",
       "    </tr>\n",
       "    <tr>\n",
       "      <th>4</th>\n",
       "      <td>2010</td>\n",
       "      <td>2010</td>\n",
       "      <td>MI</td>\n",
       "      <td>Michigan</td>\n",
       "      <td>SEDD; SID</td>\n",
       "      <td>Asthma</td>\n",
       "      <td>Hospitalizations for asthma</td>\n",
       "      <td>NaN</td>\n",
       "      <td>NaN</td>\n",
       "      <td>Number</td>\n",
       "      <td>...</td>\n",
       "      <td>26</td>\n",
       "      <td>AST</td>\n",
       "      <td>AST3_1</td>\n",
       "      <td>NMBR</td>\n",
       "      <td>RACE</td>\n",
       "      <td>HIS</td>\n",
       "      <td>NaN</td>\n",
       "      <td>NaN</td>\n",
       "      <td>NaN</td>\n",
       "      <td>NaN</td>\n",
       "    </tr>\n",
       "    <tr>\n",
       "      <th>5</th>\n",
       "      <td>2015</td>\n",
       "      <td>2015</td>\n",
       "      <td>MT</td>\n",
       "      <td>Montana</td>\n",
       "      <td>SEDD; SID</td>\n",
       "      <td>Asthma</td>\n",
       "      <td>Hospitalizations for asthma</td>\n",
       "      <td>NaN</td>\n",
       "      <td>NaN</td>\n",
       "      <td>Number</td>\n",
       "      <td>...</td>\n",
       "      <td>30</td>\n",
       "      <td>AST</td>\n",
       "      <td>AST3_1</td>\n",
       "      <td>NMBR</td>\n",
       "      <td>RACE</td>\n",
       "      <td>HIS</td>\n",
       "      <td>NaN</td>\n",
       "      <td>NaN</td>\n",
       "      <td>NaN</td>\n",
       "      <td>NaN</td>\n",
       "    </tr>\n",
       "    <tr>\n",
       "      <th>6</th>\n",
       "      <td>2013</td>\n",
       "      <td>2013</td>\n",
       "      <td>OR</td>\n",
       "      <td>Oregon</td>\n",
       "      <td>SEDD; SID</td>\n",
       "      <td>Asthma</td>\n",
       "      <td>Hospitalizations for asthma</td>\n",
       "      <td>NaN</td>\n",
       "      <td>NaN</td>\n",
       "      <td>Number</td>\n",
       "      <td>...</td>\n",
       "      <td>41</td>\n",
       "      <td>AST</td>\n",
       "      <td>AST3_1</td>\n",
       "      <td>NMBR</td>\n",
       "      <td>GENDER</td>\n",
       "      <td>GENM</td>\n",
       "      <td>NaN</td>\n",
       "      <td>NaN</td>\n",
       "      <td>NaN</td>\n",
       "      <td>NaN</td>\n",
       "    </tr>\n",
       "    <tr>\n",
       "      <th>7</th>\n",
       "      <td>2013</td>\n",
       "      <td>2013</td>\n",
       "      <td>PR</td>\n",
       "      <td>Puerto Rico</td>\n",
       "      <td>SEDD; SID</td>\n",
       "      <td>Asthma</td>\n",
       "      <td>Hospitalizations for asthma</td>\n",
       "      <td>NaN</td>\n",
       "      <td>NaN</td>\n",
       "      <td>Number</td>\n",
       "      <td>...</td>\n",
       "      <td>72</td>\n",
       "      <td>AST</td>\n",
       "      <td>AST3_1</td>\n",
       "      <td>NMBR</td>\n",
       "      <td>OVERALL</td>\n",
       "      <td>OVR</td>\n",
       "      <td>NaN</td>\n",
       "      <td>NaN</td>\n",
       "      <td>NaN</td>\n",
       "      <td>NaN</td>\n",
       "    </tr>\n",
       "    <tr>\n",
       "      <th>8</th>\n",
       "      <td>2017</td>\n",
       "      <td>2017</td>\n",
       "      <td>PR</td>\n",
       "      <td>Puerto Rico</td>\n",
       "      <td>SEDD; SID</td>\n",
       "      <td>Asthma</td>\n",
       "      <td>Hospitalizations for asthma</td>\n",
       "      <td>NaN</td>\n",
       "      <td>NaN</td>\n",
       "      <td>Number</td>\n",
       "      <td>...</td>\n",
       "      <td>72</td>\n",
       "      <td>AST</td>\n",
       "      <td>AST3_1</td>\n",
       "      <td>NMBR</td>\n",
       "      <td>OVERALL</td>\n",
       "      <td>OVR</td>\n",
       "      <td>NaN</td>\n",
       "      <td>NaN</td>\n",
       "      <td>NaN</td>\n",
       "      <td>NaN</td>\n",
       "    </tr>\n",
       "    <tr>\n",
       "      <th>9</th>\n",
       "      <td>2010</td>\n",
       "      <td>2010</td>\n",
       "      <td>WI</td>\n",
       "      <td>Wisconsin</td>\n",
       "      <td>SEDD; SID</td>\n",
       "      <td>Asthma</td>\n",
       "      <td>Hospitalizations for asthma</td>\n",
       "      <td>NaN</td>\n",
       "      <td>NaN</td>\n",
       "      <td>Number</td>\n",
       "      <td>...</td>\n",
       "      <td>55</td>\n",
       "      <td>AST</td>\n",
       "      <td>AST3_1</td>\n",
       "      <td>NMBR</td>\n",
       "      <td>GENDER</td>\n",
       "      <td>GENM</td>\n",
       "      <td>NaN</td>\n",
       "      <td>NaN</td>\n",
       "      <td>NaN</td>\n",
       "      <td>NaN</td>\n",
       "    </tr>\n",
       "  </tbody>\n",
       "</table>\n",
       "<p>10 rows × 34 columns</p>\n",
       "</div>"
      ],
      "text/plain": [
       "   YearStart  YearEnd LocationAbbr          LocationDesc DataSource   Topic  \\\n",
       "0       2014     2014           AR              Arkansas  SEDD; SID  Asthma   \n",
       "1       2018     2018           CO              Colorado  SEDD; SID  Asthma   \n",
       "2       2018     2018           DC  District of Columbia  SEDD; SID  Asthma   \n",
       "3       2017     2017           GA               Georgia  SEDD; SID  Asthma   \n",
       "4       2010     2010           MI              Michigan  SEDD; SID  Asthma   \n",
       "5       2015     2015           MT               Montana  SEDD; SID  Asthma   \n",
       "6       2013     2013           OR                Oregon  SEDD; SID  Asthma   \n",
       "7       2013     2013           PR           Puerto Rico  SEDD; SID  Asthma   \n",
       "8       2017     2017           PR           Puerto Rico  SEDD; SID  Asthma   \n",
       "9       2010     2010           WI             Wisconsin  SEDD; SID  Asthma   \n",
       "\n",
       "                      Question  Response DataValueUnit DataValueType  ...  \\\n",
       "0  Hospitalizations for asthma       NaN           NaN        Number  ...   \n",
       "1  Hospitalizations for asthma       NaN           NaN        Number  ...   \n",
       "2  Hospitalizations for asthma       NaN           NaN        Number  ...   \n",
       "3  Hospitalizations for asthma       NaN           NaN        Number  ...   \n",
       "4  Hospitalizations for asthma       NaN           NaN        Number  ...   \n",
       "5  Hospitalizations for asthma       NaN           NaN        Number  ...   \n",
       "6  Hospitalizations for asthma       NaN           NaN        Number  ...   \n",
       "7  Hospitalizations for asthma       NaN           NaN        Number  ...   \n",
       "8  Hospitalizations for asthma       NaN           NaN        Number  ...   \n",
       "9  Hospitalizations for asthma       NaN           NaN        Number  ...   \n",
       "\n",
       "  LocationID  TopicID QuestionID DataValueTypeID  StratificationCategoryID1  \\\n",
       "0          5      AST     AST3_1            NMBR                     GENDER   \n",
       "1          8      AST     AST3_1            NMBR                    OVERALL   \n",
       "2         11      AST     AST3_1            NMBR                    OVERALL   \n",
       "3         13      AST     AST3_1            NMBR                     GENDER   \n",
       "4         26      AST     AST3_1            NMBR                       RACE   \n",
       "5         30      AST     AST3_1            NMBR                       RACE   \n",
       "6         41      AST     AST3_1            NMBR                     GENDER   \n",
       "7         72      AST     AST3_1            NMBR                    OVERALL   \n",
       "8         72      AST     AST3_1            NMBR                    OVERALL   \n",
       "9         55      AST     AST3_1            NMBR                     GENDER   \n",
       "\n",
       "   StratificationID1 StratificationCategoryID2 StratificationID2  \\\n",
       "0               GENM                       NaN               NaN   \n",
       "1                OVR                       NaN               NaN   \n",
       "2                OVR                       NaN               NaN   \n",
       "3               GENF                       NaN               NaN   \n",
       "4                HIS                       NaN               NaN   \n",
       "5                HIS                       NaN               NaN   \n",
       "6               GENM                       NaN               NaN   \n",
       "7                OVR                       NaN               NaN   \n",
       "8                OVR                       NaN               NaN   \n",
       "9               GENM                       NaN               NaN   \n",
       "\n",
       "   StratificationCategoryID3  StratificationID3  \n",
       "0                        NaN                NaN  \n",
       "1                        NaN                NaN  \n",
       "2                        NaN                NaN  \n",
       "3                        NaN                NaN  \n",
       "4                        NaN                NaN  \n",
       "5                        NaN                NaN  \n",
       "6                        NaN                NaN  \n",
       "7                        NaN                NaN  \n",
       "8                        NaN                NaN  \n",
       "9                        NaN                NaN  \n",
       "\n",
       "[10 rows x 34 columns]"
      ]
     },
     "execution_count": 3,
     "metadata": {},
     "output_type": "execute_result"
    }
   ],
   "source": [
    "df.head(10)"
   ]
  },
  {
   "cell_type": "code",
   "execution_count": 4,
   "id": "9a854add",
   "metadata": {},
   "outputs": [
    {
     "data": {
      "text/plain": [
       "(1185676, 34)"
      ]
     },
     "execution_count": 4,
     "metadata": {},
     "output_type": "execute_result"
    }
   ],
   "source": [
    "df.shape"
   ]
  },
  {
   "cell_type": "code",
   "execution_count": 5,
   "id": "0138bba4",
   "metadata": {},
   "outputs": [
    {
     "data": {
      "text/plain": [
       "Index(['YearStart', 'YearEnd', 'LocationAbbr', 'LocationDesc', 'DataSource',\n",
       "       'Topic', 'Question', 'Response', 'DataValueUnit', 'DataValueType',\n",
       "       'DataValue', 'DataValueAlt', 'DataValueFootnoteSymbol',\n",
       "       'DatavalueFootnote', 'LowConfidenceLimit', 'HighConfidenceLimit',\n",
       "       'StratificationCategory1', 'Stratification1', 'StratificationCategory2',\n",
       "       'Stratification2', 'StratificationCategory3', 'Stratification3',\n",
       "       'GeoLocation', 'ResponseID', 'LocationID', 'TopicID', 'QuestionID',\n",
       "       'DataValueTypeID', 'StratificationCategoryID1', 'StratificationID1',\n",
       "       'StratificationCategoryID2', 'StratificationID2',\n",
       "       'StratificationCategoryID3', 'StratificationID3'],\n",
       "      dtype='object')"
      ]
     },
     "execution_count": 5,
     "metadata": {},
     "output_type": "execute_result"
    }
   ],
   "source": [
    "df.columns"
   ]
  },
  {
   "cell_type": "code",
   "execution_count": 6,
   "id": "89082a1f",
   "metadata": {},
   "outputs": [
    {
     "data": {
      "text/html": [
       "<div>\n",
       "<style scoped>\n",
       "    .dataframe tbody tr th:only-of-type {\n",
       "        vertical-align: middle;\n",
       "    }\n",
       "\n",
       "    .dataframe tbody tr th {\n",
       "        vertical-align: top;\n",
       "    }\n",
       "\n",
       "    .dataframe thead th {\n",
       "        text-align: right;\n",
       "    }\n",
       "</style>\n",
       "<table border=\"1\" class=\"dataframe\">\n",
       "  <thead>\n",
       "    <tr style=\"text-align: right;\">\n",
       "      <th></th>\n",
       "      <th>YearStart</th>\n",
       "      <th>YearEnd</th>\n",
       "      <th>Response</th>\n",
       "      <th>DataValueAlt</th>\n",
       "      <th>LowConfidenceLimit</th>\n",
       "      <th>HighConfidenceLimit</th>\n",
       "      <th>StratificationCategory2</th>\n",
       "      <th>Stratification2</th>\n",
       "      <th>StratificationCategory3</th>\n",
       "      <th>Stratification3</th>\n",
       "      <th>ResponseID</th>\n",
       "      <th>LocationID</th>\n",
       "      <th>StratificationCategoryID2</th>\n",
       "      <th>StratificationID2</th>\n",
       "      <th>StratificationCategoryID3</th>\n",
       "      <th>StratificationID3</th>\n",
       "    </tr>\n",
       "  </thead>\n",
       "  <tbody>\n",
       "    <tr>\n",
       "      <th>count</th>\n",
       "      <td>1.185676e+06</td>\n",
       "      <td>1.185676e+06</td>\n",
       "      <td>0.0</td>\n",
       "      <td>8.045780e+05</td>\n",
       "      <td>682380.000000</td>\n",
       "      <td>682380.000000</td>\n",
       "      <td>0.0</td>\n",
       "      <td>0.0</td>\n",
       "      <td>0.0</td>\n",
       "      <td>0.0</td>\n",
       "      <td>0.0</td>\n",
       "      <td>1.185676e+06</td>\n",
       "      <td>0.0</td>\n",
       "      <td>0.0</td>\n",
       "      <td>0.0</td>\n",
       "      <td>0.0</td>\n",
       "    </tr>\n",
       "    <tr>\n",
       "      <th>mean</th>\n",
       "      <td>2.015103e+03</td>\n",
       "      <td>2.015643e+03</td>\n",
       "      <td>NaN</td>\n",
       "      <td>1.005325e+03</td>\n",
       "      <td>50.264623</td>\n",
       "      <td>61.873881</td>\n",
       "      <td>NaN</td>\n",
       "      <td>NaN</td>\n",
       "      <td>NaN</td>\n",
       "      <td>NaN</td>\n",
       "      <td>NaN</td>\n",
       "      <td>3.078907e+01</td>\n",
       "      <td>NaN</td>\n",
       "      <td>NaN</td>\n",
       "      <td>NaN</td>\n",
       "      <td>NaN</td>\n",
       "    </tr>\n",
       "    <tr>\n",
       "      <th>std</th>\n",
       "      <td>3.320259e+00</td>\n",
       "      <td>3.001197e+00</td>\n",
       "      <td>NaN</td>\n",
       "      <td>1.880433e+04</td>\n",
       "      <td>89.004848</td>\n",
       "      <td>100.104303</td>\n",
       "      <td>NaN</td>\n",
       "      <td>NaN</td>\n",
       "      <td>NaN</td>\n",
       "      <td>NaN</td>\n",
       "      <td>NaN</td>\n",
       "      <td>1.750972e+01</td>\n",
       "      <td>NaN</td>\n",
       "      <td>NaN</td>\n",
       "      <td>NaN</td>\n",
       "      <td>NaN</td>\n",
       "    </tr>\n",
       "    <tr>\n",
       "      <th>min</th>\n",
       "      <td>2.001000e+03</td>\n",
       "      <td>2.001000e+03</td>\n",
       "      <td>NaN</td>\n",
       "      <td>0.000000e+00</td>\n",
       "      <td>0.000000</td>\n",
       "      <td>0.000000</td>\n",
       "      <td>NaN</td>\n",
       "      <td>NaN</td>\n",
       "      <td>NaN</td>\n",
       "      <td>NaN</td>\n",
       "      <td>NaN</td>\n",
       "      <td>1.000000e+00</td>\n",
       "      <td>NaN</td>\n",
       "      <td>NaN</td>\n",
       "      <td>NaN</td>\n",
       "      <td>NaN</td>\n",
       "    </tr>\n",
       "    <tr>\n",
       "      <th>25%</th>\n",
       "      <td>2.013000e+03</td>\n",
       "      <td>2.013000e+03</td>\n",
       "      <td>NaN</td>\n",
       "      <td>1.610000e+01</td>\n",
       "      <td>11.000000</td>\n",
       "      <td>16.300000</td>\n",
       "      <td>NaN</td>\n",
       "      <td>NaN</td>\n",
       "      <td>NaN</td>\n",
       "      <td>NaN</td>\n",
       "      <td>NaN</td>\n",
       "      <td>1.700000e+01</td>\n",
       "      <td>NaN</td>\n",
       "      <td>NaN</td>\n",
       "      <td>NaN</td>\n",
       "      <td>NaN</td>\n",
       "    </tr>\n",
       "    <tr>\n",
       "      <th>50%</th>\n",
       "      <td>2.015000e+03</td>\n",
       "      <td>2.016000e+03</td>\n",
       "      <td>NaN</td>\n",
       "      <td>4.000000e+01</td>\n",
       "      <td>28.500000</td>\n",
       "      <td>41.000000</td>\n",
       "      <td>NaN</td>\n",
       "      <td>NaN</td>\n",
       "      <td>NaN</td>\n",
       "      <td>NaN</td>\n",
       "      <td>NaN</td>\n",
       "      <td>3.000000e+01</td>\n",
       "      <td>NaN</td>\n",
       "      <td>NaN</td>\n",
       "      <td>NaN</td>\n",
       "      <td>NaN</td>\n",
       "    </tr>\n",
       "    <tr>\n",
       "      <th>75%</th>\n",
       "      <td>2.018000e+03</td>\n",
       "      <td>2.018000e+03</td>\n",
       "      <td>NaN</td>\n",
       "      <td>7.600000e+01</td>\n",
       "      <td>56.300000</td>\n",
       "      <td>71.100000</td>\n",
       "      <td>NaN</td>\n",
       "      <td>NaN</td>\n",
       "      <td>NaN</td>\n",
       "      <td>NaN</td>\n",
       "      <td>NaN</td>\n",
       "      <td>4.500000e+01</td>\n",
       "      <td>NaN</td>\n",
       "      <td>NaN</td>\n",
       "      <td>NaN</td>\n",
       "      <td>NaN</td>\n",
       "    </tr>\n",
       "    <tr>\n",
       "      <th>max</th>\n",
       "      <td>2.021000e+03</td>\n",
       "      <td>2.021000e+03</td>\n",
       "      <td>NaN</td>\n",
       "      <td>2.925456e+06</td>\n",
       "      <td>2541.600000</td>\n",
       "      <td>3530.500000</td>\n",
       "      <td>NaN</td>\n",
       "      <td>NaN</td>\n",
       "      <td>NaN</td>\n",
       "      <td>NaN</td>\n",
       "      <td>NaN</td>\n",
       "      <td>7.800000e+01</td>\n",
       "      <td>NaN</td>\n",
       "      <td>NaN</td>\n",
       "      <td>NaN</td>\n",
       "      <td>NaN</td>\n",
       "    </tr>\n",
       "  </tbody>\n",
       "</table>\n",
       "</div>"
      ],
      "text/plain": [
       "          YearStart       YearEnd  Response  DataValueAlt  LowConfidenceLimit  \\\n",
       "count  1.185676e+06  1.185676e+06       0.0  8.045780e+05       682380.000000   \n",
       "mean   2.015103e+03  2.015643e+03       NaN  1.005325e+03           50.264623   \n",
       "std    3.320259e+00  3.001197e+00       NaN  1.880433e+04           89.004848   \n",
       "min    2.001000e+03  2.001000e+03       NaN  0.000000e+00            0.000000   \n",
       "25%    2.013000e+03  2.013000e+03       NaN  1.610000e+01           11.000000   \n",
       "50%    2.015000e+03  2.016000e+03       NaN  4.000000e+01           28.500000   \n",
       "75%    2.018000e+03  2.018000e+03       NaN  7.600000e+01           56.300000   \n",
       "max    2.021000e+03  2.021000e+03       NaN  2.925456e+06         2541.600000   \n",
       "\n",
       "       HighConfidenceLimit  StratificationCategory2  Stratification2  \\\n",
       "count        682380.000000                      0.0              0.0   \n",
       "mean             61.873881                      NaN              NaN   \n",
       "std             100.104303                      NaN              NaN   \n",
       "min               0.000000                      NaN              NaN   \n",
       "25%              16.300000                      NaN              NaN   \n",
       "50%              41.000000                      NaN              NaN   \n",
       "75%              71.100000                      NaN              NaN   \n",
       "max            3530.500000                      NaN              NaN   \n",
       "\n",
       "       StratificationCategory3  Stratification3  ResponseID    LocationID  \\\n",
       "count                      0.0              0.0         0.0  1.185676e+06   \n",
       "mean                       NaN              NaN         NaN  3.078907e+01   \n",
       "std                        NaN              NaN         NaN  1.750972e+01   \n",
       "min                        NaN              NaN         NaN  1.000000e+00   \n",
       "25%                        NaN              NaN         NaN  1.700000e+01   \n",
       "50%                        NaN              NaN         NaN  3.000000e+01   \n",
       "75%                        NaN              NaN         NaN  4.500000e+01   \n",
       "max                        NaN              NaN         NaN  7.800000e+01   \n",
       "\n",
       "       StratificationCategoryID2  StratificationID2  \\\n",
       "count                        0.0                0.0   \n",
       "mean                         NaN                NaN   \n",
       "std                          NaN                NaN   \n",
       "min                          NaN                NaN   \n",
       "25%                          NaN                NaN   \n",
       "50%                          NaN                NaN   \n",
       "75%                          NaN                NaN   \n",
       "max                          NaN                NaN   \n",
       "\n",
       "       StratificationCategoryID3  StratificationID3  \n",
       "count                        0.0                0.0  \n",
       "mean                         NaN                NaN  \n",
       "std                          NaN                NaN  \n",
       "min                          NaN                NaN  \n",
       "25%                          NaN                NaN  \n",
       "50%                          NaN                NaN  \n",
       "75%                          NaN                NaN  \n",
       "max                          NaN                NaN  "
      ]
     },
     "execution_count": 6,
     "metadata": {},
     "output_type": "execute_result"
    }
   ],
   "source": [
    "df.describe()"
   ]
  },
  {
   "cell_type": "code",
   "execution_count": 7,
   "id": "6ea57782",
   "metadata": {},
   "outputs": [
    {
     "name": "stdout",
     "output_type": "stream",
     "text": [
      "<class 'pandas.core.frame.DataFrame'>\n",
      "RangeIndex: 1185676 entries, 0 to 1185675\n",
      "Data columns (total 34 columns):\n",
      " #   Column                     Non-Null Count    Dtype  \n",
      "---  ------                     --------------    -----  \n",
      " 0   YearStart                  1185676 non-null  int64  \n",
      " 1   YearEnd                    1185676 non-null  int64  \n",
      " 2   LocationAbbr               1185676 non-null  object \n",
      " 3   LocationDesc               1185676 non-null  object \n",
      " 4   DataSource                 1185676 non-null  object \n",
      " 5   Topic                      1185676 non-null  object \n",
      " 6   Question                   1185676 non-null  object \n",
      " 7   Response                   0 non-null        float64\n",
      " 8   DataValueUnit              1033553 non-null  object \n",
      " 9   DataValueType              1185676 non-null  object \n",
      " 10  DataValue                  806942 non-null   object \n",
      " 11  DataValueAlt               804578 non-null   float64\n",
      " 12  DataValueFootnoteSymbol    393710 non-null   object \n",
      " 13  DatavalueFootnote          393710 non-null   object \n",
      " 14  LowConfidenceLimit         682380 non-null   float64\n",
      " 15  HighConfidenceLimit        682380 non-null   float64\n",
      " 16  StratificationCategory1    1185676 non-null  object \n",
      " 17  Stratification1            1185676 non-null  object \n",
      " 18  StratificationCategory2    0 non-null        float64\n",
      " 19  Stratification2            0 non-null        float64\n",
      " 20  StratificationCategory3    0 non-null        float64\n",
      " 21  Stratification3            0 non-null        float64\n",
      " 22  GeoLocation                1175510 non-null  object \n",
      " 23  ResponseID                 0 non-null        float64\n",
      " 24  LocationID                 1185676 non-null  int64  \n",
      " 25  TopicID                    1185676 non-null  object \n",
      " 26  QuestionID                 1185676 non-null  object \n",
      " 27  DataValueTypeID            1185676 non-null  object \n",
      " 28  StratificationCategoryID1  1185676 non-null  object \n",
      " 29  StratificationID1          1185676 non-null  object \n",
      " 30  StratificationCategoryID2  0 non-null        float64\n",
      " 31  StratificationID2          0 non-null        float64\n",
      " 32  StratificationCategoryID3  0 non-null        float64\n",
      " 33  StratificationID3          0 non-null        float64\n",
      "dtypes: float64(13), int64(3), object(18)\n",
      "memory usage: 307.6+ MB\n"
     ]
    }
   ],
   "source": [
    "df.info()"
   ]
  },
  {
   "cell_type": "code",
   "execution_count": 8,
   "id": "3a4f6bef",
   "metadata": {},
   "outputs": [
    {
     "data": {
      "text/plain": [
       "YearStart                       16\n",
       "YearEnd                         16\n",
       "LocationAbbr                    55\n",
       "LocationDesc                    55\n",
       "DataSource                      31\n",
       "Topic                           17\n",
       "Question                       203\n",
       "Response                         0\n",
       "DataValueUnit                   12\n",
       "DataValueType                   19\n",
       "DataValue                    50436\n",
       "DataValueAlt                 41213\n",
       "DataValueFootnoteSymbol         17\n",
       "DatavalueFootnote               18\n",
       "LowConfidenceLimit           22464\n",
       "HighConfidenceLimit          24000\n",
       "StratificationCategory1          3\n",
       "Stratification1                 11\n",
       "StratificationCategory2          0\n",
       "Stratification2                  0\n",
       "StratificationCategory3          0\n",
       "Stratification3                  0\n",
       "GeoLocation                     54\n",
       "ResponseID                       0\n",
       "LocationID                      55\n",
       "TopicID                         17\n",
       "QuestionID                     203\n",
       "DataValueTypeID                 19\n",
       "StratificationCategoryID1        3\n",
       "StratificationID1               13\n",
       "StratificationCategoryID2        0\n",
       "StratificationID2                0\n",
       "StratificationCategoryID3        0\n",
       "StratificationID3                0\n",
       "dtype: int64"
      ]
     },
     "execution_count": 8,
     "metadata": {},
     "output_type": "execute_result"
    }
   ],
   "source": [
    "df.nunique()"
   ]
  },
  {
   "cell_type": "code",
   "execution_count": 9,
   "id": "6b4f2a65",
   "metadata": {},
   "outputs": [
    {
     "data": {
      "text/html": [
       "<div>\n",
       "<style scoped>\n",
       "    .dataframe tbody tr th:only-of-type {\n",
       "        vertical-align: middle;\n",
       "    }\n",
       "\n",
       "    .dataframe tbody tr th {\n",
       "        vertical-align: top;\n",
       "    }\n",
       "\n",
       "    .dataframe thead th {\n",
       "        text-align: right;\n",
       "    }\n",
       "</style>\n",
       "<table border=\"1\" class=\"dataframe\">\n",
       "  <thead>\n",
       "    <tr style=\"text-align: right;\">\n",
       "      <th></th>\n",
       "      <th>YearStart</th>\n",
       "      <th>YearEnd</th>\n",
       "      <th>LocationAbbr</th>\n",
       "      <th>LocationDesc</th>\n",
       "      <th>DataSource</th>\n",
       "      <th>Topic</th>\n",
       "      <th>Question</th>\n",
       "      <th>DataValueType</th>\n",
       "      <th>DataValue</th>\n",
       "      <th>StratificationCategory1</th>\n",
       "      <th>Stratification1</th>\n",
       "      <th>GeoLocation</th>\n",
       "      <th>LocationID</th>\n",
       "      <th>TopicID</th>\n",
       "      <th>QuestionID</th>\n",
       "      <th>DataValueTypeID</th>\n",
       "      <th>StratificationCategoryID1</th>\n",
       "      <th>StratificationID1</th>\n",
       "    </tr>\n",
       "  </thead>\n",
       "  <tbody>\n",
       "    <tr>\n",
       "      <th>0</th>\n",
       "      <td>2014</td>\n",
       "      <td>2014</td>\n",
       "      <td>AR</td>\n",
       "      <td>Arkansas</td>\n",
       "      <td>SEDD; SID</td>\n",
       "      <td>Asthma</td>\n",
       "      <td>Hospitalizations for asthma</td>\n",
       "      <td>Number</td>\n",
       "      <td>916</td>\n",
       "      <td>Gender</td>\n",
       "      <td>Male</td>\n",
       "      <td>POINT (-92.27449074299966 34.74865012400045)</td>\n",
       "      <td>5</td>\n",
       "      <td>AST</td>\n",
       "      <td>AST3_1</td>\n",
       "      <td>NMBR</td>\n",
       "      <td>GENDER</td>\n",
       "      <td>GENM</td>\n",
       "    </tr>\n",
       "    <tr>\n",
       "      <th>1</th>\n",
       "      <td>2018</td>\n",
       "      <td>2018</td>\n",
       "      <td>CO</td>\n",
       "      <td>Colorado</td>\n",
       "      <td>SEDD; SID</td>\n",
       "      <td>Asthma</td>\n",
       "      <td>Hospitalizations for asthma</td>\n",
       "      <td>Number</td>\n",
       "      <td>2227</td>\n",
       "      <td>Overall</td>\n",
       "      <td>Overall</td>\n",
       "      <td>POINT (-106.13361092099967 38.843840757000464)</td>\n",
       "      <td>8</td>\n",
       "      <td>AST</td>\n",
       "      <td>AST3_1</td>\n",
       "      <td>NMBR</td>\n",
       "      <td>OVERALL</td>\n",
       "      <td>OVR</td>\n",
       "    </tr>\n",
       "    <tr>\n",
       "      <th>2</th>\n",
       "      <td>2018</td>\n",
       "      <td>2018</td>\n",
       "      <td>DC</td>\n",
       "      <td>District of Columbia</td>\n",
       "      <td>SEDD; SID</td>\n",
       "      <td>Asthma</td>\n",
       "      <td>Hospitalizations for asthma</td>\n",
       "      <td>Number</td>\n",
       "      <td>708</td>\n",
       "      <td>Overall</td>\n",
       "      <td>Overall</td>\n",
       "      <td>POINT (-77.036871 38.907192)</td>\n",
       "      <td>11</td>\n",
       "      <td>AST</td>\n",
       "      <td>AST3_1</td>\n",
       "      <td>NMBR</td>\n",
       "      <td>OVERALL</td>\n",
       "      <td>OVR</td>\n",
       "    </tr>\n",
       "    <tr>\n",
       "      <th>3</th>\n",
       "      <td>2017</td>\n",
       "      <td>2017</td>\n",
       "      <td>GA</td>\n",
       "      <td>Georgia</td>\n",
       "      <td>SEDD; SID</td>\n",
       "      <td>Asthma</td>\n",
       "      <td>Hospitalizations for asthma</td>\n",
       "      <td>Number</td>\n",
       "      <td>3520</td>\n",
       "      <td>Gender</td>\n",
       "      <td>Female</td>\n",
       "      <td>POINT (-83.62758034599966 32.83968109300048)</td>\n",
       "      <td>13</td>\n",
       "      <td>AST</td>\n",
       "      <td>AST3_1</td>\n",
       "      <td>NMBR</td>\n",
       "      <td>GENDER</td>\n",
       "      <td>GENF</td>\n",
       "    </tr>\n",
       "    <tr>\n",
       "      <th>4</th>\n",
       "      <td>2010</td>\n",
       "      <td>2010</td>\n",
       "      <td>MI</td>\n",
       "      <td>Michigan</td>\n",
       "      <td>SEDD; SID</td>\n",
       "      <td>Asthma</td>\n",
       "      <td>Hospitalizations for asthma</td>\n",
       "      <td>Number</td>\n",
       "      <td>123</td>\n",
       "      <td>Race/Ethnicity</td>\n",
       "      <td>Hispanic</td>\n",
       "      <td>POINT (-84.71439026999968 44.6613195430005)</td>\n",
       "      <td>26</td>\n",
       "      <td>AST</td>\n",
       "      <td>AST3_1</td>\n",
       "      <td>NMBR</td>\n",
       "      <td>RACE</td>\n",
       "      <td>HIS</td>\n",
       "    </tr>\n",
       "    <tr>\n",
       "      <th>...</th>\n",
       "      <td>...</td>\n",
       "      <td>...</td>\n",
       "      <td>...</td>\n",
       "      <td>...</td>\n",
       "      <td>...</td>\n",
       "      <td>...</td>\n",
       "      <td>...</td>\n",
       "      <td>...</td>\n",
       "      <td>...</td>\n",
       "      <td>...</td>\n",
       "      <td>...</td>\n",
       "      <td>...</td>\n",
       "      <td>...</td>\n",
       "      <td>...</td>\n",
       "      <td>...</td>\n",
       "      <td>...</td>\n",
       "      <td>...</td>\n",
       "      <td>...</td>\n",
       "    </tr>\n",
       "    <tr>\n",
       "      <th>1185671</th>\n",
       "      <td>2020</td>\n",
       "      <td>2020</td>\n",
       "      <td>WY</td>\n",
       "      <td>Wyoming</td>\n",
       "      <td>BRFSS</td>\n",
       "      <td>Diabetes</td>\n",
       "      <td>Dilated eye examination among adults aged &gt;= 1...</td>\n",
       "      <td>Age-adjusted Prevalence</td>\n",
       "      <td>NaN</td>\n",
       "      <td>Race/Ethnicity</td>\n",
       "      <td>White, non-Hispanic</td>\n",
       "      <td>POINT (-108.10983035299967 43.23554134300048)</td>\n",
       "      <td>56</td>\n",
       "      <td>DIA</td>\n",
       "      <td>DIA7_0</td>\n",
       "      <td>AGEADJPREV</td>\n",
       "      <td>RACE</td>\n",
       "      <td>WHT</td>\n",
       "    </tr>\n",
       "    <tr>\n",
       "      <th>1185672</th>\n",
       "      <td>2020</td>\n",
       "      <td>2020</td>\n",
       "      <td>WY</td>\n",
       "      <td>Wyoming</td>\n",
       "      <td>BRFSS</td>\n",
       "      <td>Older Adults</td>\n",
       "      <td>Proportion of older adults aged &gt;= 65 years wh...</td>\n",
       "      <td>Crude Prevalence</td>\n",
       "      <td>41.5</td>\n",
       "      <td>Race/Ethnicity</td>\n",
       "      <td>White, non-Hispanic</td>\n",
       "      <td>POINT (-108.10983035299967 43.23554134300048)</td>\n",
       "      <td>56</td>\n",
       "      <td>OLD</td>\n",
       "      <td>OLD3_1</td>\n",
       "      <td>CRDPREV</td>\n",
       "      <td>RACE</td>\n",
       "      <td>WHT</td>\n",
       "    </tr>\n",
       "    <tr>\n",
       "      <th>1185673</th>\n",
       "      <td>2017</td>\n",
       "      <td>2017</td>\n",
       "      <td>IA</td>\n",
       "      <td>Iowa</td>\n",
       "      <td>BRFSS</td>\n",
       "      <td>Arthritis</td>\n",
       "      <td>Activity limitation due to arthritis among adu...</td>\n",
       "      <td>Age-adjusted Prevalence</td>\n",
       "      <td>NaN</td>\n",
       "      <td>Race/Ethnicity</td>\n",
       "      <td>Hispanic</td>\n",
       "      <td>POINT (-93.81649055599968 42.46940091300047)</td>\n",
       "      <td>19</td>\n",
       "      <td>ART</td>\n",
       "      <td>ART2_1</td>\n",
       "      <td>AGEADJPREV</td>\n",
       "      <td>RACE</td>\n",
       "      <td>HIS</td>\n",
       "    </tr>\n",
       "    <tr>\n",
       "      <th>1185674</th>\n",
       "      <td>2020</td>\n",
       "      <td>2020</td>\n",
       "      <td>WY</td>\n",
       "      <td>Wyoming</td>\n",
       "      <td>BRFSS</td>\n",
       "      <td>Diabetes</td>\n",
       "      <td>Diabetes prevalence among women aged 18-44 years</td>\n",
       "      <td>Crude Prevalence</td>\n",
       "      <td>NaN</td>\n",
       "      <td>Race/Ethnicity</td>\n",
       "      <td>Hispanic</td>\n",
       "      <td>POINT (-108.10983035299967 43.23554134300048)</td>\n",
       "      <td>56</td>\n",
       "      <td>DIA</td>\n",
       "      <td>DIA2_2</td>\n",
       "      <td>CRDPREV</td>\n",
       "      <td>RACE</td>\n",
       "      <td>HIS</td>\n",
       "    </tr>\n",
       "    <tr>\n",
       "      <th>1185675</th>\n",
       "      <td>2019</td>\n",
       "      <td>2019</td>\n",
       "      <td>RI</td>\n",
       "      <td>Rhode Island</td>\n",
       "      <td>BRFSS</td>\n",
       "      <td>Arthritis</td>\n",
       "      <td>Activity limitation due to arthritis among adu...</td>\n",
       "      <td>Crude Prevalence</td>\n",
       "      <td>39.5</td>\n",
       "      <td>Overall</td>\n",
       "      <td>Overall</td>\n",
       "      <td>POINT (-71.52247031399963 41.70828019300046)</td>\n",
       "      <td>44</td>\n",
       "      <td>ART</td>\n",
       "      <td>ART2_1</td>\n",
       "      <td>CRDPREV</td>\n",
       "      <td>OVERALL</td>\n",
       "      <td>OVR</td>\n",
       "    </tr>\n",
       "  </tbody>\n",
       "</table>\n",
       "<p>1185676 rows × 18 columns</p>\n",
       "</div>"
      ],
      "text/plain": [
       "         YearStart  YearEnd LocationAbbr          LocationDesc DataSource  \\\n",
       "0             2014     2014           AR              Arkansas  SEDD; SID   \n",
       "1             2018     2018           CO              Colorado  SEDD; SID   \n",
       "2             2018     2018           DC  District of Columbia  SEDD; SID   \n",
       "3             2017     2017           GA               Georgia  SEDD; SID   \n",
       "4             2010     2010           MI              Michigan  SEDD; SID   \n",
       "...            ...      ...          ...                   ...        ...   \n",
       "1185671       2020     2020           WY               Wyoming      BRFSS   \n",
       "1185672       2020     2020           WY               Wyoming      BRFSS   \n",
       "1185673       2017     2017           IA                  Iowa      BRFSS   \n",
       "1185674       2020     2020           WY               Wyoming      BRFSS   \n",
       "1185675       2019     2019           RI          Rhode Island      BRFSS   \n",
       "\n",
       "                Topic                                           Question  \\\n",
       "0              Asthma                        Hospitalizations for asthma   \n",
       "1              Asthma                        Hospitalizations for asthma   \n",
       "2              Asthma                        Hospitalizations for asthma   \n",
       "3              Asthma                        Hospitalizations for asthma   \n",
       "4              Asthma                        Hospitalizations for asthma   \n",
       "...               ...                                                ...   \n",
       "1185671      Diabetes  Dilated eye examination among adults aged >= 1...   \n",
       "1185672  Older Adults  Proportion of older adults aged >= 65 years wh...   \n",
       "1185673     Arthritis  Activity limitation due to arthritis among adu...   \n",
       "1185674      Diabetes   Diabetes prevalence among women aged 18-44 years   \n",
       "1185675     Arthritis  Activity limitation due to arthritis among adu...   \n",
       "\n",
       "                   DataValueType DataValue StratificationCategory1  \\\n",
       "0                         Number       916                  Gender   \n",
       "1                         Number      2227                 Overall   \n",
       "2                         Number       708                 Overall   \n",
       "3                         Number      3520                  Gender   \n",
       "4                         Number       123          Race/Ethnicity   \n",
       "...                          ...       ...                     ...   \n",
       "1185671  Age-adjusted Prevalence       NaN          Race/Ethnicity   \n",
       "1185672         Crude Prevalence      41.5          Race/Ethnicity   \n",
       "1185673  Age-adjusted Prevalence       NaN          Race/Ethnicity   \n",
       "1185674         Crude Prevalence       NaN          Race/Ethnicity   \n",
       "1185675         Crude Prevalence      39.5                 Overall   \n",
       "\n",
       "             Stratification1                                     GeoLocation  \\\n",
       "0                       Male    POINT (-92.27449074299966 34.74865012400045)   \n",
       "1                    Overall  POINT (-106.13361092099967 38.843840757000464)   \n",
       "2                    Overall                    POINT (-77.036871 38.907192)   \n",
       "3                     Female    POINT (-83.62758034599966 32.83968109300048)   \n",
       "4                   Hispanic     POINT (-84.71439026999968 44.6613195430005)   \n",
       "...                      ...                                             ...   \n",
       "1185671  White, non-Hispanic   POINT (-108.10983035299967 43.23554134300048)   \n",
       "1185672  White, non-Hispanic   POINT (-108.10983035299967 43.23554134300048)   \n",
       "1185673             Hispanic    POINT (-93.81649055599968 42.46940091300047)   \n",
       "1185674             Hispanic   POINT (-108.10983035299967 43.23554134300048)   \n",
       "1185675              Overall    POINT (-71.52247031399963 41.70828019300046)   \n",
       "\n",
       "         LocationID TopicID QuestionID DataValueTypeID  \\\n",
       "0                 5     AST     AST3_1            NMBR   \n",
       "1                 8     AST     AST3_1            NMBR   \n",
       "2                11     AST     AST3_1            NMBR   \n",
       "3                13     AST     AST3_1            NMBR   \n",
       "4                26     AST     AST3_1            NMBR   \n",
       "...             ...     ...        ...             ...   \n",
       "1185671          56     DIA     DIA7_0      AGEADJPREV   \n",
       "1185672          56     OLD     OLD3_1         CRDPREV   \n",
       "1185673          19     ART     ART2_1      AGEADJPREV   \n",
       "1185674          56     DIA     DIA2_2         CRDPREV   \n",
       "1185675          44     ART     ART2_1         CRDPREV   \n",
       "\n",
       "        StratificationCategoryID1 StratificationID1  \n",
       "0                          GENDER              GENM  \n",
       "1                         OVERALL               OVR  \n",
       "2                         OVERALL               OVR  \n",
       "3                          GENDER              GENF  \n",
       "4                            RACE               HIS  \n",
       "...                           ...               ...  \n",
       "1185671                      RACE               WHT  \n",
       "1185672                      RACE               WHT  \n",
       "1185673                      RACE               HIS  \n",
       "1185674                      RACE               HIS  \n",
       "1185675                   OVERALL               OVR  \n",
       "\n",
       "[1185676 rows x 18 columns]"
      ]
     },
     "execution_count": 9,
     "metadata": {},
     "output_type": "execute_result"
    }
   ],
   "source": [
    "# Drop unnecessary columns which has no values associated with them.\n",
    "df.drop(['Response','DataValueUnit','DataValueAlt','DataValueFootnoteSymbol','DatavalueFootnote','LowConfidenceLimit','HighConfidenceLimit','StratificationCategory2','Stratification2','StratificationCategory3','Stratification3','ResponseID','StratificationCategoryID2','StratificationID2','StratificationCategoryID3','StratificationID3'], axis=1, inplace=True)\n",
    "df"
   ]
  },
  {
   "cell_type": "code",
   "execution_count": 10,
   "id": "1ac20ca7",
   "metadata": {},
   "outputs": [
    {
     "data": {
      "text/plain": [
       "YearStart                         0\n",
       "YearEnd                           0\n",
       "LocationAbbr                      0\n",
       "LocationDesc                      0\n",
       "DataSource                        0\n",
       "Topic                             0\n",
       "Question                          0\n",
       "DataValueType                     0\n",
       "DataValue                    378734\n",
       "StratificationCategory1           0\n",
       "Stratification1                   0\n",
       "GeoLocation                   10166\n",
       "LocationID                        0\n",
       "TopicID                           0\n",
       "QuestionID                        0\n",
       "DataValueTypeID                   0\n",
       "StratificationCategoryID1         0\n",
       "StratificationID1                 0\n",
       "dtype: int64"
      ]
     },
     "execution_count": 10,
     "metadata": {},
     "output_type": "execute_result"
    }
   ],
   "source": [
    "# Check if data has any Null values\n",
    "df.isnull().sum()"
   ]
  },
  {
   "cell_type": "code",
   "execution_count": 11,
   "id": "d56fa749",
   "metadata": {},
   "outputs": [
    {
     "data": {
      "text/html": [
       "<div>\n",
       "<style scoped>\n",
       "    .dataframe tbody tr th:only-of-type {\n",
       "        vertical-align: middle;\n",
       "    }\n",
       "\n",
       "    .dataframe tbody tr th {\n",
       "        vertical-align: top;\n",
       "    }\n",
       "\n",
       "    .dataframe thead th {\n",
       "        text-align: right;\n",
       "    }\n",
       "</style>\n",
       "<table border=\"1\" class=\"dataframe\">\n",
       "  <thead>\n",
       "    <tr style=\"text-align: right;\">\n",
       "      <th></th>\n",
       "      <th>YearStart</th>\n",
       "      <th>YearEnd</th>\n",
       "      <th>LocationAbbr</th>\n",
       "      <th>LocationDesc</th>\n",
       "      <th>DataSource</th>\n",
       "      <th>Topic</th>\n",
       "      <th>Question</th>\n",
       "      <th>DataValueType</th>\n",
       "      <th>DataValue</th>\n",
       "      <th>StratificationCategory1</th>\n",
       "      <th>Stratification1</th>\n",
       "      <th>GeoLocation</th>\n",
       "      <th>LocationID</th>\n",
       "      <th>TopicID</th>\n",
       "      <th>QuestionID</th>\n",
       "      <th>DataValueTypeID</th>\n",
       "      <th>StratificationCategoryID1</th>\n",
       "      <th>StratificationID1</th>\n",
       "    </tr>\n",
       "  </thead>\n",
       "  <tbody>\n",
       "    <tr>\n",
       "      <th>0</th>\n",
       "      <td>2014</td>\n",
       "      <td>2014</td>\n",
       "      <td>AR</td>\n",
       "      <td>Arkansas</td>\n",
       "      <td>SEDD; SID</td>\n",
       "      <td>Asthma</td>\n",
       "      <td>Hospitalizations for asthma</td>\n",
       "      <td>Number</td>\n",
       "      <td>916</td>\n",
       "      <td>Gender</td>\n",
       "      <td>Male</td>\n",
       "      <td>POINT (-92.27449074299966 34.74865012400045)</td>\n",
       "      <td>5</td>\n",
       "      <td>AST</td>\n",
       "      <td>AST3_1</td>\n",
       "      <td>NMBR</td>\n",
       "      <td>GENDER</td>\n",
       "      <td>GENM</td>\n",
       "    </tr>\n",
       "    <tr>\n",
       "      <th>1</th>\n",
       "      <td>2018</td>\n",
       "      <td>2018</td>\n",
       "      <td>CO</td>\n",
       "      <td>Colorado</td>\n",
       "      <td>SEDD; SID</td>\n",
       "      <td>Asthma</td>\n",
       "      <td>Hospitalizations for asthma</td>\n",
       "      <td>Number</td>\n",
       "      <td>2227</td>\n",
       "      <td>Overall</td>\n",
       "      <td>Overall</td>\n",
       "      <td>POINT (-106.13361092099967 38.843840757000464)</td>\n",
       "      <td>8</td>\n",
       "      <td>AST</td>\n",
       "      <td>AST3_1</td>\n",
       "      <td>NMBR</td>\n",
       "      <td>OVERALL</td>\n",
       "      <td>OVR</td>\n",
       "    </tr>\n",
       "    <tr>\n",
       "      <th>2</th>\n",
       "      <td>2018</td>\n",
       "      <td>2018</td>\n",
       "      <td>DC</td>\n",
       "      <td>District of Columbia</td>\n",
       "      <td>SEDD; SID</td>\n",
       "      <td>Asthma</td>\n",
       "      <td>Hospitalizations for asthma</td>\n",
       "      <td>Number</td>\n",
       "      <td>708</td>\n",
       "      <td>Overall</td>\n",
       "      <td>Overall</td>\n",
       "      <td>POINT (-77.036871 38.907192)</td>\n",
       "      <td>11</td>\n",
       "      <td>AST</td>\n",
       "      <td>AST3_1</td>\n",
       "      <td>NMBR</td>\n",
       "      <td>OVERALL</td>\n",
       "      <td>OVR</td>\n",
       "    </tr>\n",
       "    <tr>\n",
       "      <th>3</th>\n",
       "      <td>2017</td>\n",
       "      <td>2017</td>\n",
       "      <td>GA</td>\n",
       "      <td>Georgia</td>\n",
       "      <td>SEDD; SID</td>\n",
       "      <td>Asthma</td>\n",
       "      <td>Hospitalizations for asthma</td>\n",
       "      <td>Number</td>\n",
       "      <td>3520</td>\n",
       "      <td>Gender</td>\n",
       "      <td>Female</td>\n",
       "      <td>POINT (-83.62758034599966 32.83968109300048)</td>\n",
       "      <td>13</td>\n",
       "      <td>AST</td>\n",
       "      <td>AST3_1</td>\n",
       "      <td>NMBR</td>\n",
       "      <td>GENDER</td>\n",
       "      <td>GENF</td>\n",
       "    </tr>\n",
       "    <tr>\n",
       "      <th>4</th>\n",
       "      <td>2010</td>\n",
       "      <td>2010</td>\n",
       "      <td>MI</td>\n",
       "      <td>Michigan</td>\n",
       "      <td>SEDD; SID</td>\n",
       "      <td>Asthma</td>\n",
       "      <td>Hospitalizations for asthma</td>\n",
       "      <td>Number</td>\n",
       "      <td>123</td>\n",
       "      <td>Race/Ethnicity</td>\n",
       "      <td>Hispanic</td>\n",
       "      <td>POINT (-84.71439026999968 44.6613195430005)</td>\n",
       "      <td>26</td>\n",
       "      <td>AST</td>\n",
       "      <td>AST3_1</td>\n",
       "      <td>NMBR</td>\n",
       "      <td>RACE</td>\n",
       "      <td>HIS</td>\n",
       "    </tr>\n",
       "    <tr>\n",
       "      <th>...</th>\n",
       "      <td>...</td>\n",
       "      <td>...</td>\n",
       "      <td>...</td>\n",
       "      <td>...</td>\n",
       "      <td>...</td>\n",
       "      <td>...</td>\n",
       "      <td>...</td>\n",
       "      <td>...</td>\n",
       "      <td>...</td>\n",
       "      <td>...</td>\n",
       "      <td>...</td>\n",
       "      <td>...</td>\n",
       "      <td>...</td>\n",
       "      <td>...</td>\n",
       "      <td>...</td>\n",
       "      <td>...</td>\n",
       "      <td>...</td>\n",
       "      <td>...</td>\n",
       "    </tr>\n",
       "    <tr>\n",
       "      <th>797178</th>\n",
       "      <td>2017</td>\n",
       "      <td>2017</td>\n",
       "      <td>VT</td>\n",
       "      <td>Vermont</td>\n",
       "      <td>BRFSS</td>\n",
       "      <td>Arthritis</td>\n",
       "      <td>Activity limitation due to arthritis among adu...</td>\n",
       "      <td>Crude Prevalence</td>\n",
       "      <td>53.8</td>\n",
       "      <td>Race/Ethnicity</td>\n",
       "      <td>Other, non-Hispanic</td>\n",
       "      <td>POINT (-72.51764079099962 43.62538123900049)</td>\n",
       "      <td>50</td>\n",
       "      <td>ART</td>\n",
       "      <td>ART2_1</td>\n",
       "      <td>CRDPREV</td>\n",
       "      <td>RACE</td>\n",
       "      <td>OTH</td>\n",
       "    </tr>\n",
       "    <tr>\n",
       "      <th>797179</th>\n",
       "      <td>2019</td>\n",
       "      <td>2019</td>\n",
       "      <td>ME</td>\n",
       "      <td>Maine</td>\n",
       "      <td>BRFSS</td>\n",
       "      <td>Arthritis</td>\n",
       "      <td>Activity limitation due to arthritis among adu...</td>\n",
       "      <td>Crude Prevalence</td>\n",
       "      <td>73.7</td>\n",
       "      <td>Race/Ethnicity</td>\n",
       "      <td>Multiracial, non-Hispanic</td>\n",
       "      <td>POINT (-68.98503133599962 45.254228894000505)</td>\n",
       "      <td>23</td>\n",
       "      <td>ART</td>\n",
       "      <td>ART2_1</td>\n",
       "      <td>CRDPREV</td>\n",
       "      <td>RACE</td>\n",
       "      <td>MRC</td>\n",
       "    </tr>\n",
       "    <tr>\n",
       "      <th>797180</th>\n",
       "      <td>2019</td>\n",
       "      <td>2019</td>\n",
       "      <td>OK</td>\n",
       "      <td>Oklahoma</td>\n",
       "      <td>BRFSS</td>\n",
       "      <td>Arthritis</td>\n",
       "      <td>Activity limitation due to arthritis among adu...</td>\n",
       "      <td>Crude Prevalence</td>\n",
       "      <td>57.6</td>\n",
       "      <td>Race/Ethnicity</td>\n",
       "      <td>Other, non-Hispanic</td>\n",
       "      <td>POINT (-97.52107021399968 35.47203135600046)</td>\n",
       "      <td>40</td>\n",
       "      <td>ART</td>\n",
       "      <td>ART2_1</td>\n",
       "      <td>CRDPREV</td>\n",
       "      <td>RACE</td>\n",
       "      <td>OTH</td>\n",
       "    </tr>\n",
       "    <tr>\n",
       "      <th>797181</th>\n",
       "      <td>2020</td>\n",
       "      <td>2020</td>\n",
       "      <td>WY</td>\n",
       "      <td>Wyoming</td>\n",
       "      <td>BRFSS</td>\n",
       "      <td>Older Adults</td>\n",
       "      <td>Proportion of older adults aged &gt;= 65 years wh...</td>\n",
       "      <td>Crude Prevalence</td>\n",
       "      <td>41.5</td>\n",
       "      <td>Race/Ethnicity</td>\n",
       "      <td>White, non-Hispanic</td>\n",
       "      <td>POINT (-108.10983035299967 43.23554134300048)</td>\n",
       "      <td>56</td>\n",
       "      <td>OLD</td>\n",
       "      <td>OLD3_1</td>\n",
       "      <td>CRDPREV</td>\n",
       "      <td>RACE</td>\n",
       "      <td>WHT</td>\n",
       "    </tr>\n",
       "    <tr>\n",
       "      <th>797182</th>\n",
       "      <td>2019</td>\n",
       "      <td>2019</td>\n",
       "      <td>RI</td>\n",
       "      <td>Rhode Island</td>\n",
       "      <td>BRFSS</td>\n",
       "      <td>Arthritis</td>\n",
       "      <td>Activity limitation due to arthritis among adu...</td>\n",
       "      <td>Crude Prevalence</td>\n",
       "      <td>39.5</td>\n",
       "      <td>Overall</td>\n",
       "      <td>Overall</td>\n",
       "      <td>POINT (-71.52247031399963 41.70828019300046)</td>\n",
       "      <td>44</td>\n",
       "      <td>ART</td>\n",
       "      <td>ART2_1</td>\n",
       "      <td>CRDPREV</td>\n",
       "      <td>OVERALL</td>\n",
       "      <td>OVR</td>\n",
       "    </tr>\n",
       "  </tbody>\n",
       "</table>\n",
       "<p>797183 rows × 18 columns</p>\n",
       "</div>"
      ],
      "text/plain": [
       "        YearStart  YearEnd LocationAbbr          LocationDesc DataSource  \\\n",
       "0            2014     2014           AR              Arkansas  SEDD; SID   \n",
       "1            2018     2018           CO              Colorado  SEDD; SID   \n",
       "2            2018     2018           DC  District of Columbia  SEDD; SID   \n",
       "3            2017     2017           GA               Georgia  SEDD; SID   \n",
       "4            2010     2010           MI              Michigan  SEDD; SID   \n",
       "...           ...      ...          ...                   ...        ...   \n",
       "797178       2017     2017           VT               Vermont      BRFSS   \n",
       "797179       2019     2019           ME                 Maine      BRFSS   \n",
       "797180       2019     2019           OK              Oklahoma      BRFSS   \n",
       "797181       2020     2020           WY               Wyoming      BRFSS   \n",
       "797182       2019     2019           RI          Rhode Island      BRFSS   \n",
       "\n",
       "               Topic                                           Question  \\\n",
       "0             Asthma                        Hospitalizations for asthma   \n",
       "1             Asthma                        Hospitalizations for asthma   \n",
       "2             Asthma                        Hospitalizations for asthma   \n",
       "3             Asthma                        Hospitalizations for asthma   \n",
       "4             Asthma                        Hospitalizations for asthma   \n",
       "...              ...                                                ...   \n",
       "797178     Arthritis  Activity limitation due to arthritis among adu...   \n",
       "797179     Arthritis  Activity limitation due to arthritis among adu...   \n",
       "797180     Arthritis  Activity limitation due to arthritis among adu...   \n",
       "797181  Older Adults  Proportion of older adults aged >= 65 years wh...   \n",
       "797182     Arthritis  Activity limitation due to arthritis among adu...   \n",
       "\n",
       "           DataValueType DataValue StratificationCategory1  \\\n",
       "0                 Number       916                  Gender   \n",
       "1                 Number      2227                 Overall   \n",
       "2                 Number       708                 Overall   \n",
       "3                 Number      3520                  Gender   \n",
       "4                 Number       123          Race/Ethnicity   \n",
       "...                  ...       ...                     ...   \n",
       "797178  Crude Prevalence      53.8          Race/Ethnicity   \n",
       "797179  Crude Prevalence      73.7          Race/Ethnicity   \n",
       "797180  Crude Prevalence      57.6          Race/Ethnicity   \n",
       "797181  Crude Prevalence      41.5          Race/Ethnicity   \n",
       "797182  Crude Prevalence      39.5                 Overall   \n",
       "\n",
       "                  Stratification1  \\\n",
       "0                            Male   \n",
       "1                         Overall   \n",
       "2                         Overall   \n",
       "3                          Female   \n",
       "4                        Hispanic   \n",
       "...                           ...   \n",
       "797178        Other, non-Hispanic   \n",
       "797179  Multiracial, non-Hispanic   \n",
       "797180        Other, non-Hispanic   \n",
       "797181        White, non-Hispanic   \n",
       "797182                    Overall   \n",
       "\n",
       "                                           GeoLocation  LocationID TopicID  \\\n",
       "0         POINT (-92.27449074299966 34.74865012400045)           5     AST   \n",
       "1       POINT (-106.13361092099967 38.843840757000464)           8     AST   \n",
       "2                         POINT (-77.036871 38.907192)          11     AST   \n",
       "3         POINT (-83.62758034599966 32.83968109300048)          13     AST   \n",
       "4          POINT (-84.71439026999968 44.6613195430005)          26     AST   \n",
       "...                                                ...         ...     ...   \n",
       "797178    POINT (-72.51764079099962 43.62538123900049)          50     ART   \n",
       "797179   POINT (-68.98503133599962 45.254228894000505)          23     ART   \n",
       "797180    POINT (-97.52107021399968 35.47203135600046)          40     ART   \n",
       "797181   POINT (-108.10983035299967 43.23554134300048)          56     OLD   \n",
       "797182    POINT (-71.52247031399963 41.70828019300046)          44     ART   \n",
       "\n",
       "       QuestionID DataValueTypeID StratificationCategoryID1 StratificationID1  \n",
       "0          AST3_1            NMBR                    GENDER              GENM  \n",
       "1          AST3_1            NMBR                   OVERALL               OVR  \n",
       "2          AST3_1            NMBR                   OVERALL               OVR  \n",
       "3          AST3_1            NMBR                    GENDER              GENF  \n",
       "4          AST3_1            NMBR                      RACE               HIS  \n",
       "...           ...             ...                       ...               ...  \n",
       "797178     ART2_1         CRDPREV                      RACE               OTH  \n",
       "797179     ART2_1         CRDPREV                      RACE               MRC  \n",
       "797180     ART2_1         CRDPREV                      RACE               OTH  \n",
       "797181     OLD3_1         CRDPREV                      RACE               WHT  \n",
       "797182     ART2_1         CRDPREV                   OVERALL               OVR  \n",
       "\n",
       "[797183 rows x 18 columns]"
      ]
     },
     "execution_count": 11,
     "metadata": {},
     "output_type": "execute_result"
    }
   ],
   "source": [
    "# Drop the rows which contains null values\n",
    "df.dropna(axis=0, inplace=True)\n",
    "df.reset_index(drop=True, inplace=True)\n",
    "df"
   ]
  },
  {
   "cell_type": "code",
   "execution_count": 12,
   "id": "7dfe7b55",
   "metadata": {},
   "outputs": [
    {
     "data": {
      "text/plain": [
       "YearStart                    0\n",
       "YearEnd                      0\n",
       "LocationAbbr                 0\n",
       "LocationDesc                 0\n",
       "DataSource                   0\n",
       "Topic                        0\n",
       "Question                     0\n",
       "DataValueType                0\n",
       "DataValue                    0\n",
       "StratificationCategory1      0\n",
       "Stratification1              0\n",
       "GeoLocation                  0\n",
       "LocationID                   0\n",
       "TopicID                      0\n",
       "QuestionID                   0\n",
       "DataValueTypeID              0\n",
       "StratificationCategoryID1    0\n",
       "StratificationID1            0\n",
       "dtype: int64"
      ]
     },
     "execution_count": 12,
     "metadata": {},
     "output_type": "execute_result"
    }
   ],
   "source": [
    "#check if the null value row are dropped\n",
    "df.isnull().sum()"
   ]
  },
  {
   "cell_type": "code",
   "execution_count": 13,
   "id": "6c475edf",
   "metadata": {},
   "outputs": [
    {
     "data": {
      "text/plain": [
       "array(['Asthma', 'Cancer', 'Chronic Kidney Disease',\n",
       "       'Chronic Obstructive Pulmonary Disease', 'Cardiovascular Disease',\n",
       "       'Diabetes', 'Alcohol', 'Arthritis', 'Tobacco', 'Disability',\n",
       "       'Nutrition, Physical Activity, and Weight Status', 'Mental Health',\n",
       "       'Older Adults', 'Oral Health', 'Overarching Conditions',\n",
       "       'Reproductive Health', 'Immunization'], dtype=object)"
      ]
     },
     "execution_count": 13,
     "metadata": {},
     "output_type": "execute_result"
    }
   ],
   "source": [
    "#check the unique values associated to column 'Topic'\n",
    "df['Topic'].unique()"
   ]
  },
  {
   "cell_type": "markdown",
   "id": "1acfe986",
   "metadata": {},
   "source": [
    "<b>For the Top 10 Diseases(Topics), Plot the graph to see the most frequently occured disease "
   ]
  },
  {
   "cell_type": "code",
   "execution_count": 14,
   "id": "09ed6a3c",
   "metadata": {},
   "outputs": [
    {
     "name": "stdout",
     "output_type": "stream",
     "text": [
      "Topic\n",
      "Chronic Obstructive Pulmonary Disease              2.148997e+08\n",
      "Cardiovascular Disease                             1.160391e+08\n",
      "Cancer                                             8.658903e+07\n",
      "Diabetes                                           7.793251e+07\n",
      "Overarching Conditions                             2.394701e+07\n",
      "Asthma                                             1.416545e+07\n",
      "Chronic Kidney Disease                             9.722833e+06\n",
      "Older Adults                                       9.370383e+06\n",
      "Nutrition, Physical Activity, and Weight Status    2.111340e+06\n",
      "Arthritis                                          1.947367e+06\n",
      "Name: DataValue, dtype: float64\n"
     ]
    },
    {
     "data": {
      "image/png": "[encoded data removed]",
      "text/plain": [
       "<Figure size 640x480 with 1 Axes>"
      ]
     },
     "metadata": {},
     "output_type": "display_data"
    }
   ],
   "source": [
    "# convert the 'DataValue' column to a numeric data type\n",
    "df['DataValue'] = pd.to_numeric(df['DataValue'], errors='coerce')\n",
    "\n",
    "# drop rows with null values in the 'DataValue' column\n",
    "df.dropna(subset=['DataValue'], inplace=True)\n",
    "\n",
    "#get the sum of datavalues grouped for each topic\n",
    "datavalue_df = df.groupby('Topic')['DataValue'].sum().reset_index()\n",
    "\n",
    "#get top 10 topics \n",
    "top_10_topics = df.groupby('Topic')['DataValue'].sum().sort_values(ascending=False).head(10)\n",
    "print(top_10_topics)\n",
    "\n",
    "datavalue_df.plot(kind='bar', x='Topic', y='DataValue')\n",
    "plt.title('Frequency of Diseases based on datavalue ')\n",
    "plt.xlabel('Topic - Diseases')\n",
    "plt.ylabel('DataValue')\n",
    "plt.xticks(rotation=90)\n",
    "plt.show()"
   ]
  },
  {
   "cell_type": "code",
   "execution_count": 15,
   "id": "37a2c8d6",
   "metadata": {},
   "outputs": [
    {
     "name": "stdout",
     "output_type": "stream",
     "text": [
      "[2001 2007 2008 2009 2010 2011 2012 2013 2014 2015 2016 2017 2018 2019\n",
      " 2020 2021]\n"
     ]
    }
   ],
   "source": [
    "#check the unique YearStarts from the dataset\n",
    "unique_yearstart = df['YearStart'].unique()\n",
    "unique_yearstart.sort()\n",
    "print(unique_yearstart)"
   ]
  },
  {
   "cell_type": "markdown",
   "id": "3567202c",
   "metadata": {},
   "source": [
    "<b>Print the most occured disease in each year"
   ]
  },
  {
   "cell_type": "code",
   "execution_count": 16,
   "id": "ba264188",
   "metadata": {},
   "outputs": [
    {
     "name": "stdout",
     "output_type": "stream",
     "text": [
      "                                           Topic\n",
      "YearStart                                       \n",
      "2001                      Overarching Conditions\n",
      "2007                                     Tobacco\n",
      "2008                                      Cancer\n",
      "2009                                      Cancer\n",
      "2010       Chronic Obstructive Pulmonary Disease\n",
      "2011                                      Cancer\n",
      "2012                                      Cancer\n",
      "2013       Chronic Obstructive Pulmonary Disease\n",
      "2014       Chronic Obstructive Pulmonary Disease\n",
      "2015       Chronic Obstructive Pulmonary Disease\n",
      "2016       Chronic Obstructive Pulmonary Disease\n",
      "2017       Chronic Obstructive Pulmonary Disease\n",
      "2018       Chronic Obstructive Pulmonary Disease\n",
      "2019       Chronic Obstructive Pulmonary Disease\n",
      "2020                      Cardiovascular Disease\n",
      "2021                                    Diabetes\n"
     ]
    }
   ],
   "source": [
    "top_disease_by_year= df.groupby(['YearStart', 'Topic'])['DataValue'].sum().reset_index()\n",
    "idx = top_disease_by_year.groupby('YearStart')['DataValue'].idxmax()\n",
    "top_disease_by_year = top_disease_by_year.loc[idx][['YearStart', 'Topic']]\n",
    "top_disease_by_year.set_index('YearStart', inplace=True)\n",
    "print(top_disease_by_year)\n"
   ]
  },
  {
   "cell_type": "code",
   "execution_count": 17,
   "id": "9ea50d59",
   "metadata": {},
   "outputs": [
    {
     "data": {
      "image/png": "[encoded data removed]",
      "text/plain": [
       "<Figure size 640x480 with 1 Axes>"
      ]
     },
     "metadata": {},
     "output_type": "display_data"
    }
   ],
   "source": [
    "# filter the DataFrame to get only the rows for topic - 'Chronic Obstructive Pulmonary Disease'\n",
    "Pulmonary_df = df[df['Topic'] == 'Chronic Obstructive Pulmonary Disease']\n",
    "\n",
    "# group the data by 'YearStart' and calculate the sum of 'DataValue' for each year\n",
    "group_yearstart_df = Pulmonary_df.groupby('YearStart')['DataValue'].sum().reset_index()\n",
    "\n",
    "# plot a line graph of the sum of 'DataValue' for each year\n",
    "plt.plot(group_yearstart_df['YearStart'], group_yearstart_df['DataValue'])\n",
    "\n",
    "# set the title and axis labels for the graph\n",
    "plt.title('Graph of increase/decrease of the disease  -Chronic Obstructive Pulmonary Disease over the years')\n",
    "plt.xlabel('YearStart')\n",
    "plt.ylabel('DataValue')\n",
    "\n",
    "# display the graph\n",
    "plt.show()\n"
   ]
  },
  {
   "cell_type": "markdown",
   "id": "86454248",
   "metadata": {},
   "source": [
    "<b>Plot the graphs of Increase in the growth of Top 3 most occured diseases over the years."
   ]
  },
  {
   "cell_type": "code",
   "execution_count": 19,
   "id": "b3b9da0e",
   "metadata": {},
   "outputs": [
    {
     "data": {
      "image/png": "[encoded data removed]",
      "text/plain": [
       "<Figure size 1200x400 with 3 Axes>"
      ]
     },
     "metadata": {},
     "output_type": "display_data"
    }
   ],
   "source": [
    "# create a list of the topics to plot\n",
    "top3_diseases = ['Chronic Obstructive Pulmonary Disease', 'Cardiovascular Disease', 'Cancer']\n",
    "\n",
    "# create a new DataFrame which contains only the rows for these three topics\n",
    "topic_df = df[df['Topic'].isin(top3_diseases)]\n",
    "\n",
    "# group the data by 'YearStart' and 'Topic', and calculate the sum of 'DataValue' for each group\n",
    "groupedyearstart_df = topic_df.groupby(['YearStart', 'Topic'])['DataValue'].sum().reset_index()\n",
    "\n",
    "# plot a graph with subplots for each topic\n",
    "fig, axs = plt.subplots(nrows=1, ncols=len(top3_diseases), figsize=(12, 4), sharex=True, sharey=True)\n",
    "\n",
    "# plot a bar graph for each topic in a separate subplot\n",
    "for i, topic in enumerate(top3_diseases):\n",
    "    topic_data = groupedyearstart_df[groupedyearstart_df['Topic'] == topic]\n",
    "    axs[i].bar(topic_data['YearStart'], topic_data['DataValue'])\n",
    "    axs[i].set_title(topic)\n",
    "\n",
    "# set the title and axis labels for the figure\n",
    "fig.suptitle('Increase in Growth of Topics')\n",
    "fig.text(0.5, 0.04, 'YearStart', ha='center')\n",
    "fig.text(0.04, 0.5, 'DataValue', va='center', rotation='vertical')\n",
    "\n",
    "# adjust the spacing between subplots\n",
    "fig.tight_layout(pad=2)\n",
    "\n",
    "# display the figure\n",
    "plt.show()\n"
   ]
  },
  {
   "cell_type": "markdown",
   "id": "41dd6384",
   "metadata": {},
   "source": [
    "<b>Plot the graph to understand the increase of Chronic Obstructive Pulmonary Disease in Maryland"
   ]
  },
  {
   "cell_type": "code",
   "execution_count": 20,
   "id": "e56d288d",
   "metadata": {},
   "outputs": [
    {
     "data": {
      "image/png": "[encoded data removed]",
      "text/plain": [
       "<Figure size 640x480 with 1 Axes>"
      ]
     },
     "metadata": {},
     "output_type": "display_data"
    }
   ],
   "source": [
    "# set the topic and location to plot\n",
    "topic1_disease = 'Chronic Obstructive Pulmonary Disease'\n",
    "location = 'Maryland'\n",
    "\n",
    "# filter the data for the specified topic and location\n",
    "topic_df = df[(df['Topic'] == topic1_disease) & (df['LocationDesc'] == location)]\n",
    "\n",
    "# group the data by 'YearStart' and calculate the sum of 'DataValue' for each year\n",
    "#grouped_df = topic_df.groupby(['YearStart'])['DataValue'].sum().reset_index()\n",
    "\n",
    "# plot a line graph for the 'DataValue' over time\n",
    "plt.plot(groupedyearstart_df['YearStart'], groupedyearstart_df['DataValue'])\n",
    "\n",
    "# set the title and axis labels for the graph\n",
    "plt.title(f'Increase in {topic1_disease} in {location}')\n",
    "plt.xlabel('Year')\n",
    "plt.ylabel('Number of Cases')\n",
    "\n",
    "# add a grid to the graph\n",
    "plt.grid()\n",
    "\n",
    "# display the graph\n",
    "plt.show()\n"
   ]
  },
  {
   "cell_type": "markdown",
   "id": "9fb35894",
   "metadata": {},
   "source": [
    " <b>Get top 10 cities by disease"
   ]
  },
  {
   "cell_type": "code",
   "execution_count": 21,
   "id": "0da83411",
   "metadata": {},
   "outputs": [],
   "source": [
    "df_loc= df[(df['GeoLocation'].notnull())]\n",
    "#Convert to float and transform errors in nan\n",
    "df_loc['DataValue'] = pd.to_numeric(df_loc['DataValue'], errors='coerce')\n",
    "top_10_cities = (df_loc.assign(rank=df_loc.groupby(['Topic'])['DataValue']\n",
    "                     .rank(method='dense', ascending=False))\n",
    "                     .query('rank <= 10')\n",
    "                     .sort_values(['Topic', 'rank']))"
   ]
  },
  {
   "cell_type": "code",
   "execution_count": 22,
   "id": "063e9bb1",
   "metadata": {},
   "outputs": [
    {
     "name": "stdout",
     "output_type": "stream",
     "text": [
      "        YearStart  YearEnd LocationAbbr           city DataSource    Topic  \\\n",
      "8180         2020     2020           CA     California       NVSS  Alcohol   \n",
      "8522         2019     2019           CA     California       NVSS  Alcohol   \n",
      "552          2015     2015           CA     California       NVSS  Alcohol   \n",
      "3161         2018     2018           CA     California       NVSS  Alcohol   \n",
      "7629         2017     2017           CA     California       NVSS  Alcohol   \n",
      "...           ...      ...          ...            ...        ...      ...   \n",
      "362188       2016     2016           NH  New Hampshire      STATE  Tobacco   \n",
      "786350       2011     2011           WI      Wisconsin      BRFSS  Tobacco   \n",
      "363748       2014     2014           NH  New Hampshire      STATE  Tobacco   \n",
      "365740       2013     2013           NH  New Hampshire      STATE  Tobacco   \n",
      "660272       2012     2012           NY       New York      BRFSS  Tobacco   \n",
      "\n",
      "                                                 Question     DataValueType  \\\n",
      "8180                      Chronic liver disease mortality            Number   \n",
      "8522                      Chronic liver disease mortality            Number   \n",
      "552                       Chronic liver disease mortality            Number   \n",
      "3161                      Chronic liver disease mortality            Number   \n",
      "7629                      Chronic liver disease mortality            Number   \n",
      "...                                                   ...               ...   \n",
      "362188                            Sale of cigarette packs            Number   \n",
      "786350  Quit attempts in the past year among current s...  Crude Prevalence   \n",
      "363748                            Sale of cigarette packs            Number   \n",
      "365740                            Sale of cigarette packs            Number   \n",
      "660272  Quit attempts in the past year among current s...  Crude Prevalence   \n",
      "\n",
      "        DataValue StratificationCategory1      Stratification1  \\\n",
      "8180       6180.0                 Overall              Overall   \n",
      "8522       5575.0                 Overall              Overall   \n",
      "552        5425.0                 Overall              Overall   \n",
      "3161       5390.0                 Overall              Overall   \n",
      "7629       5325.0                 Overall              Overall   \n",
      "...           ...                     ...                  ...   \n",
      "362188       91.5                 Overall              Overall   \n",
      "786350       91.4          Race/Ethnicity  Other, non-Hispanic   \n",
      "363748       90.6                 Overall              Overall   \n",
      "365740       89.6                 Overall              Overall   \n",
      "660272       89.4          Race/Ethnicity  Black, non-Hispanic   \n",
      "\n",
      "                                          GeoLocation  LocationID TopicID  \\\n",
      "8180    POINT (-120.99999953799971 37.63864012300047)           6     ALC   \n",
      "8522    POINT (-120.99999953799971 37.63864012300047)           6     ALC   \n",
      "552     POINT (-120.99999953799971 37.63864012300047)           6     ALC   \n",
      "3161    POINT (-120.99999953799971 37.63864012300047)           6     ALC   \n",
      "7629    POINT (-120.99999953799971 37.63864012300047)           6     ALC   \n",
      "...                                               ...         ...     ...   \n",
      "362188   POINT (-71.50036091999965 43.65595011300047)          33     TOB   \n",
      "786350   POINT (-89.81637074199966 44.39319117400049)          55     TOB   \n",
      "363748   POINT (-71.50036091999965 43.65595011300047)          33     TOB   \n",
      "365740   POINT (-71.50036091999965 43.65595011300047)          33     TOB   \n",
      "660272   POINT (-75.54397042699964 42.82700103200045)          36     TOB   \n",
      "\n",
      "       QuestionID DataValueTypeID StratificationCategoryID1 StratificationID1  \\\n",
      "8180       ALC6_0            NMBR                   OVERALL               OVR   \n",
      "8522       ALC6_0            NMBR                   OVERALL               OVR   \n",
      "552        ALC6_0            NMBR                   OVERALL               OVR   \n",
      "3161       ALC6_0            NMBR                   OVERALL               OVR   \n",
      "7629       ALC6_0            NMBR                   OVERALL               OVR   \n",
      "...           ...             ...                       ...               ...   \n",
      "362188    TOB10_0            NMBR                   OVERALL               OVR   \n",
      "786350     TOB3_0         CRDPREV                      RACE               OTH   \n",
      "363748    TOB10_0            NMBR                   OVERALL               OVR   \n",
      "365740    TOB10_0            NMBR                   OVERALL               OVR   \n",
      "660272     TOB3_0         CRDPREV                      RACE               BLK   \n",
      "\n",
      "        rank  \n",
      "8180     1.0  \n",
      "8522     2.0  \n",
      "552      3.0  \n",
      "3161     4.0  \n",
      "7629     5.0  \n",
      "...      ...  \n",
      "362188   6.0  \n",
      "786350   7.0  \n",
      "363748   8.0  \n",
      "365740   9.0  \n",
      "660272  10.0  \n",
      "\n",
      "[275 rows x 19 columns]\n"
     ]
    }
   ],
   "source": [
    "top_10_cities.rename(columns={'LocationDesc':'city'}, inplace=True)\n",
    "print(top_10_cities)"
   ]
  },
  {
   "cell_type": "markdown",
   "id": "a7f7aa3d",
   "metadata": {},
   "source": [
    "<b>Plot the graph to see Frequency of Cities in top 10 ranking for diseases"
   ]
  },
  {
   "cell_type": "code",
   "execution_count": 23,
   "id": "7f7146ac",
   "metadata": {},
   "outputs": [
    {
     "data": {
      "application/vnd.plotly.v1+json": {
       "config": {
        "linkText": "Export to plot.ly",
        "plotlyServerURL": "https://plot.ly",
        "showLink": false
       },
       "data": [
        {
         "orientation": "h",
         "text": [
          1,
          1,
          1,
          1,
          1,
          1,
          1,
          1,
          1,
          1,
          1,
          1,
          1,
          2,
          2,
          2,
          2,
          2,
          2,
          2,
          2,
          2,
          2,
          2,
          2,
          2,
          2,
          2,
          2,
          2,
          3,
          3,
          3,
          3,
          3,
          3,
          3,
          3,
          4,
          4,
          4,
          4,
          5,
          10
         ],
         "type": "bar",
         "x": [
          1,
          1,
          1,
          1,
          1,
          1,
          1,
          1,
          1,
          1,
          1,
          1,
          1,
          2,
          2,
          2,
          2,
          2,
          2,
          2,
          2,
          2,
          2,
          2,
          2,
          2,
          2,
          2,
          2,
          2,
          3,
          3,
          3,
          3,
          3,
          3,
          3,
          3,
          4,
          4,
          4,
          4,
          5,
          10
         ],
         "y": [
          "Alabama",
          "West Virginia",
          "Virginia",
          "Virgin Islands",
          "Vermont",
          "Utah",
          "Puerto Rico",
          "Oregon",
          "New Mexico",
          "Nevada",
          "Wyoming",
          "Connecticut",
          "Alaska",
          "Oklahoma",
          "Hawaii",
          "Colorado",
          "Arkansas",
          "New Jersey",
          "New Hampshire",
          "Pennsylvania",
          "Nebraska",
          "Minnesota",
          "Michigan",
          "Maryland",
          "Maine",
          "Kentucky",
          "Kansas",
          "Iowa",
          "Washington",
          "Wisconsin",
          "Arizona",
          "South Dakota",
          "Rhode Island",
          "Illinois",
          "Ohio",
          "New York",
          "Delaware",
          "North Dakota",
          "Texas",
          "District of Columbia",
          "Montana",
          "Massachusetts",
          "Florida",
          "California"
         ]
        }
       ],
       "layout": {
        "height": 1400,
        "template": {
         "data": {
          "bar": [
           {
            "error_x": {
             "color": "#2a3f5f"
            },
            "error_y": {
             "color": "#2a3f5f"
            },
            "marker": {
             "line": {
              "color": "#E5ECF6",
              "width": 0.5
             },
             "pattern": {
              "fillmode": "overlay",
              "size": 10,
              "solidity": 0.2
             }
            },
            "type": "bar"
           }
          ],
          "barpolar": [
           {
            "marker": {
             "line": {
              "color": "#E5ECF6",
              "width": 0.5
             },
             "pattern": {
              "fillmode": "overlay",
              "size": 10,
              "solidity": 0.2
             }
            },
            "type": "barpolar"
           }
          ],
          "carpet": [
           {
            "aaxis": {
             "endlinecolor": "#2a3f5f",
             "gridcolor": "white",
             "linecolor": "white",
             "minorgridcolor": "white",
             "startlinecolor": "#2a3f5f"
            },
            "baxis": {
             "endlinecolor": "#2a3f5f",
             "gridcolor": "white",
             "linecolor": "white",
             "minorgridcolor": "white",
             "startlinecolor": "#2a3f5f"
            },
            "type": "carpet"
           }
          ],
          "choropleth": [
           {
            "colorbar": {
             "outlinewidth": 0,
             "ticks": ""
            },
            "type": "choropleth"
           }
          ],
          "contour": [
           {
            "colorbar": {
             "outlinewidth": 0,
             "ticks": ""
            },
            "colorscale": [
             [
              0,
              "#0d0887"
             ],
             [
              0.1111111111111111,
              "#46039f"
             ],
             [
              0.2222222222222222,
              "#7201a8"
             ],
             [
              0.3333333333333333,
              "#9c179e"
             ],
             [
              0.4444444444444444,
              "#bd3786"
             ],
             [
              0.5555555555555556,
              "#d8576b"
             ],
             [
              0.6666666666666666,
              "#ed7953"
             ],
             [
              0.7777777777777778,
              "#fb9f3a"
             ],
             [
              0.8888888888888888,
              "#fdca26"
             ],
             [
              1,
              "#f0f921"
             ]
            ],
            "type": "contour"
           }
          ],
          "contourcarpet": [
           {
            "colorbar": {
             "outlinewidth": 0,
             "ticks": ""
            },
            "type": "contourcarpet"
           }
          ],
          "heatmap": [
           {
            "colorbar": {
             "outlinewidth": 0,
             "ticks": ""
            },
            "colorscale": [
             [
              0,
              "#0d0887"
             ],
             [
              0.1111111111111111,
              "#46039f"
             ],
             [
              0.2222222222222222,
              "#7201a8"
             ],
             [
              0.3333333333333333,
              "#9c179e"
             ],
             [
              0.4444444444444444,
              "#bd3786"
             ],
             [
              0.5555555555555556,
              "#d8576b"
             ],
             [
              0.6666666666666666,
              "#ed7953"
             ],
             [
              0.7777777777777778,
              "#fb9f3a"
             ],
             [
              0.8888888888888888,
              "#fdca26"
             ],
             [
              1,
              "#f0f921"
             ]
            ],
            "type": "heatmap"
           }
          ],
          "heatmapgl": [
           {
            "colorbar": {
             "outlinewidth": 0,
             "ticks": ""
            },
            "colorscale": [
             [
              0,
              "#0d0887"
             ],
             [
              0.1111111111111111,
              "#46039f"
             ],
             [
              0.2222222222222222,
              "#7201a8"
             ],
             [
              0.3333333333333333,
              "#9c179e"
             ],
             [
              0.4444444444444444,
              "#bd3786"
             ],
             [
              0.5555555555555556,
              "#d8576b"
             ],
             [
              0.6666666666666666,
              "#ed7953"
             ],
             [
              0.7777777777777778,
              "#fb9f3a"
             ],
             [
              0.8888888888888888,
              "#fdca26"
             ],
             [
              1,
              "#f0f921"
             ]
            ],
            "type": "heatmapgl"
           }
          ],
          "histogram": [
           {
            "marker": {
             "pattern": {
              "fillmode": "overlay",
              "size": 10,
              "solidity": 0.2
             }
            },
            "type": "histogram"
           }
          ],
          "histogram2d": [
           {
            "colorbar": {
             "outlinewidth": 0,
             "ticks": ""
            },
            "colorscale": [
             [
              0,
              "#0d0887"
             ],
             [
              0.1111111111111111,
              "#46039f"
             ],
             [
              0.2222222222222222,
              "#7201a8"
             ],
             [
              0.3333333333333333,
              "#9c179e"
             ],
             [
              0.4444444444444444,
              "#bd3786"
             ],
             [
              0.5555555555555556,
              "#d8576b"
             ],
             [
              0.6666666666666666,
              "#ed7953"
             ],
             [
              0.7777777777777778,
              "#fb9f3a"
             ],
             [
              0.8888888888888888,
              "#fdca26"
             ],
             [
              1,
              "#f0f921"
             ]
            ],
            "type": "histogram2d"
           }
          ],
          "histogram2dcontour": [
           {
            "colorbar": {
             "outlinewidth": 0,
             "ticks": ""
            },
            "colorscale": [
             [
              0,
              "#0d0887"
             ],
             [
              0.1111111111111111,
              "#46039f"
             ],
             [
              0.2222222222222222,
              "#7201a8"
             ],
             [
              0.3333333333333333,
              "#9c179e"
             ],
             [
              0.4444444444444444,
              "#bd3786"
             ],
             [
              0.5555555555555556,
              "#d8576b"
             ],
             [
              0.6666666666666666,
              "#ed7953"
             ],
             [
              0.7777777777777778,
              "#fb9f3a"
             ],
             [
              0.8888888888888888,
              "#fdca26"
             ],
             [
              1,
              "#f0f921"
             ]
            ],
            "type": "histogram2dcontour"
           }
          ],
          "mesh3d": [
           {
            "colorbar": {
             "outlinewidth": 0,
             "ticks": ""
            },
            "type": "mesh3d"
           }
          ],
          "parcoords": [
           {
            "line": {
             "colorbar": {
              "outlinewidth": 0,
              "ticks": ""
             }
            },
            "type": "parcoords"
           }
          ],
          "pie": [
           {
            "automargin": true,
            "type": "pie"
           }
          ],
          "scatter": [
           {
            "fillpattern": {
             "fillmode": "overlay",
             "size": 10,
             "solidity": 0.2
            },
            "type": "scatter"
           }
          ],
          "scatter3d": [
           {
            "line": {
             "colorbar": {
              "outlinewidth": 0,
              "ticks": ""
             }
            },
            "marker": {
             "colorbar": {
              "outlinewidth": 0,
              "ticks": ""
             }
            },
            "type": "scatter3d"
           }
          ],
          "scattercarpet": [
           {
            "marker": {
             "colorbar": {
              "outlinewidth": 0,
              "ticks": ""
             }
            },
            "type": "scattercarpet"
           }
          ],
          "scattergeo": [
           {
            "marker": {
             "colorbar": {
              "outlinewidth": 0,
              "ticks": ""
             }
            },
            "type": "scattergeo"
           }
          ],
          "scattergl": [
           {
            "marker": {
             "colorbar": {
              "outlinewidth": 0,
              "ticks": ""
             }
            },
            "type": "scattergl"
           }
          ],
          "scattermapbox": [
           {
            "marker": {
             "colorbar": {
              "outlinewidth": 0,
              "ticks": ""
             }
            },
            "type": "scattermapbox"
           }
          ],
          "scatterpolar": [
           {
            "marker": {
             "colorbar": {
              "outlinewidth": 0,
              "ticks": ""
             }
            },
            "type": "scatterpolar"
           }
          ],
          "scatterpolargl": [
           {
            "marker": {
             "colorbar": {
              "outlinewidth": 0,
              "ticks": ""
             }
            },
            "type": "scatterpolargl"
           }
          ],
          "scatterternary": [
           {
            "marker": {
             "colorbar": {
              "outlinewidth": 0,
              "ticks": ""
             }
            },
            "type": "scatterternary"
           }
          ],
          "surface": [
           {
            "colorbar": {
             "outlinewidth": 0,
             "ticks": ""
            },
            "colorscale": [
             [
              0,
              "#0d0887"
             ],
             [
              0.1111111111111111,
              "#46039f"
             ],
             [
              0.2222222222222222,
              "#7201a8"
             ],
             [
              0.3333333333333333,
              "#9c179e"
             ],
             [
              0.4444444444444444,
              "#bd3786"
             ],
             [
              0.5555555555555556,
              "#d8576b"
             ],
             [
              0.6666666666666666,
              "#ed7953"
             ],
             [
              0.7777777777777778,
              "#fb9f3a"
             ],
             [
              0.8888888888888888,
              "#fdca26"
             ],
             [
              1,
              "#f0f921"
             ]
            ],
            "type": "surface"
           }
          ],
          "table": [
           {
            "cells": {
             "fill": {
              "color": "#EBF0F8"
             },
             "line": {
              "color": "white"
             }
            },
            "header": {
             "fill": {
              "color": "#C8D4E3"
             },
             "line": {
              "color": "white"
             }
            },
            "type": "table"
           }
          ]
         },
         "layout": {
          "annotationdefaults": {
           "arrowcolor": "#2a3f5f",
           "arrowhead": 0,
           "arrowwidth": 1
          },
          "autotypenumbers": "strict",
          "coloraxis": {
           "colorbar": {
            "outlinewidth": 0,
            "ticks": ""
           }
          },
          "colorscale": {
           "diverging": [
            [
             0,
             "#8e0152"
            ],
            [
             0.1,
             "#c51b7d"
            ],
            [
             0.2,
             "#de77ae"
            ],
            [
             0.3,
             "#f1b6da"
            ],
            [
             0.4,
             "#fde0ef"
            ],
            [
             0.5,
             "#f7f7f7"
            ],
            [
             0.6,
             "#e6f5d0"
            ],
            [
             0.7,
             "#b8e186"
            ],
            [
             0.8,
             "#7fbc41"
            ],
            [
             0.9,
             "#4d9221"
            ],
            [
             1,
             "#276419"
            ]
           ],
           "sequential": [
            [
             0,
             "#0d0887"
            ],
            [
             0.1111111111111111,
             "#46039f"
            ],
            [
             0.2222222222222222,
             "#7201a8"
            ],
            [
             0.3333333333333333,
             "#9c179e"
            ],
            [
             0.4444444444444444,
             "#bd3786"
            ],
            [
             0.5555555555555556,
             "#d8576b"
            ],
            [
             0.6666666666666666,
             "#ed7953"
            ],
            [
             0.7777777777777778,
             "#fb9f3a"
            ],
            [
             0.8888888888888888,
             "#fdca26"
            ],
            [
             1,
             "#f0f921"
            ]
           ],
           "sequentialminus": [
            [
             0,
             "#0d0887"
            ],
            [
             0.1111111111111111,
             "#46039f"
            ],
            [
             0.2222222222222222,
             "#7201a8"
            ],
            [
             0.3333333333333333,
             "#9c179e"
            ],
            [
             0.4444444444444444,
             "#bd3786"
            ],
            [
             0.5555555555555556,
             "#d8576b"
            ],
            [
             0.6666666666666666,
             "#ed7953"
            ],
            [
             0.7777777777777778,
             "#fb9f3a"
            ],
            [
             0.8888888888888888,
             "#fdca26"
            ],
            [
             1,
             "#f0f921"
            ]
           ]
          },
          "colorway": [
           "#636efa",
           "#EF553B",
           "#00cc96",
           "#ab63fa",
           "#FFA15A",
           "#19d3f3",
           "#FF6692",
           "#B6E880",
           "#FF97FF",
           "#FECB52"
          ],
          "font": {
           "color": "#2a3f5f"
          },
          "geo": {
           "bgcolor": "white",
           "lakecolor": "white",
           "landcolor": "#E5ECF6",
           "showlakes": true,
           "showland": true,
           "subunitcolor": "white"
          },
          "hoverlabel": {
           "align": "left"
          },
          "hovermode": "closest",
          "mapbox": {
           "style": "light"
          },
          "paper_bgcolor": "white",
          "plot_bgcolor": "#E5ECF6",
          "polar": {
           "angularaxis": {
            "gridcolor": "white",
            "linecolor": "white",
            "ticks": ""
           },
           "bgcolor": "#E5ECF6",
           "radialaxis": {
            "gridcolor": "white",
            "linecolor": "white",
            "ticks": ""
           }
          },
          "scene": {
           "xaxis": {
            "backgroundcolor": "#E5ECF6",
            "gridcolor": "white",
            "gridwidth": 2,
            "linecolor": "white",
            "showbackground": true,
            "ticks": "",
            "zerolinecolor": "white"
           },
           "yaxis": {
            "backgroundcolor": "#E5ECF6",
            "gridcolor": "white",
            "gridwidth": 2,
            "linecolor": "white",
            "showbackground": true,
            "ticks": "",
            "zerolinecolor": "white"
           },
           "zaxis": {
            "backgroundcolor": "#E5ECF6",
            "gridcolor": "white",
            "gridwidth": 2,
            "linecolor": "white",
            "showbackground": true,
            "ticks": "",
            "zerolinecolor": "white"
           }
          },
          "shapedefaults": {
           "line": {
            "color": "#2a3f5f"
           }
          },
          "ternary": {
           "aaxis": {
            "gridcolor": "white",
            "linecolor": "white",
            "ticks": ""
           },
           "baxis": {
            "gridcolor": "white",
            "linecolor": "white",
            "ticks": ""
           },
           "bgcolor": "#E5ECF6",
           "caxis": {
            "gridcolor": "white",
            "linecolor": "white",
            "ticks": ""
           }
          },
          "title": {
           "x": 0.05
          },
          "xaxis": {
           "automargin": true,
           "gridcolor": "white",
           "linecolor": "white",
           "ticks": "",
           "title": {
            "standoff": 15
           },
           "zerolinecolor": "white",
           "zerolinewidth": 2
          },
          "yaxis": {
           "automargin": true,
           "gridcolor": "white",
           "linecolor": "white",
           "ticks": "",
           "title": {
            "standoff": 15
           },
           "zerolinecolor": "white",
           "zerolinewidth": 2
          }
         }
        },
        "title": {
         "font": {
          "size": 20
         },
         "text": "Frequency of Cities in top 10 ranking for diseases"
        },
        "width": 1000,
        "yaxis": {
         "automargin": true,
         "tickmode": "array",
         "ticktext": [
          "Alabama",
          "West Virginia",
          "Virginia",
          "Virgin Islands",
          "Vermont",
          "Utah",
          "Puerto Rico",
          "Oregon",
          "New Mexico",
          "Nevada",
          "Wyoming",
          "Connecticut",
          "Alaska",
          "Oklahoma",
          "Hawaii",
          "Colorado",
          "Arkansas",
          "New Jersey",
          "New Hampshire",
          "Pennsylvania",
          "Nebraska",
          "Minnesota",
          "Michigan",
          "Maryland",
          "Maine",
          "Kentucky",
          "Kansas",
          "Iowa",
          "Washington",
          "Wisconsin",
          "Arizona",
          "South Dakota",
          "Rhode Island",
          "Illinois",
          "Ohio",
          "New York",
          "Delaware",
          "North Dakota",
          "Texas",
          "District of Columbia",
          "Montana",
          "Massachusetts",
          "Florida",
          "California"
         ]
        }
       }
      },
      "text/html": [
       "<div>                            <div id=\"b87887a0-9ac8-4438-b9d3-3116822ca120\" class=\"plotly-graph-div\" style=\"height:1400px; width:1000px;\"></div>            <script type=\"text/javascript\">                require([\"plotly\"], function(Plotly) {                    window.PLOTLYENV=window.PLOTLYENV || {};                                    if (document.getElementById(\"b87887a0-9ac8-4438-b9d3-3116822ca120\")) {                    Plotly.newPlot(                        \"b87887a0-9ac8-4438-b9d3-3116822ca120\",                        [{\"orientation\":\"h\",\"text\":[1.0,1.0,1.0,1.0,1.0,1.0,1.0,1.0,1.0,1.0,1.0,1.0,1.0,2.0,2.0,2.0,2.0,2.0,2.0,2.0,2.0,2.0,2.0,2.0,2.0,2.0,2.0,2.0,2.0,2.0,3.0,3.0,3.0,3.0,3.0,3.0,3.0,3.0,4.0,4.0,4.0,4.0,5.0,10.0],\"x\":[1,1,1,1,1,1,1,1,1,1,1,1,1,2,2,2,2,2,2,2,2,2,2,2,2,2,2,2,2,2,3,3,3,3,3,3,3,3,4,4,4,4,5,10],\"y\":[\"Alabama\",\"West Virginia\",\"Virginia\",\"Virgin Islands\",\"Vermont\",\"Utah\",\"Puerto Rico\",\"Oregon\",\"New Mexico\",\"Nevada\",\"Wyoming\",\"Connecticut\",\"Alaska\",\"Oklahoma\",\"Hawaii\",\"Colorado\",\"Arkansas\",\"New Jersey\",\"New Hampshire\",\"Pennsylvania\",\"Nebraska\",\"Minnesota\",\"Michigan\",\"Maryland\",\"Maine\",\"Kentucky\",\"Kansas\",\"Iowa\",\"Washington\",\"Wisconsin\",\"Arizona\",\"South Dakota\",\"Rhode Island\",\"Illinois\",\"Ohio\",\"New York\",\"Delaware\",\"North Dakota\",\"Texas\",\"District of Columbia\",\"Montana\",\"Massachusetts\",\"Florida\",\"California\"],\"type\":\"bar\"}],                        {\"height\":1400,\"template\":{\"data\":{\"barpolar\":[{\"marker\":{\"line\":{\"color\":\"#E5ECF6\",\"width\":0.5},\"pattern\":{\"fillmode\":\"overlay\",\"size\":10,\"solidity\":0.2}},\"type\":\"barpolar\"}],\"bar\":[{\"error_x\":{\"color\":\"#2a3f5f\"},\"error_y\":{\"color\":\"#2a3f5f\"},\"marker\":{\"line\":{\"color\":\"#E5ECF6\",\"width\":0.5},\"pattern\":{\"fillmode\":\"overlay\",\"size\":10,\"solidity\":0.2}},\"type\":\"bar\"}],\"carpet\":[{\"aaxis\":{\"endlinecolor\":\"#2a3f5f\",\"gridcolor\":\"white\",\"linecolor\":\"white\",\"minorgridcolor\":\"white\",\"startlinecolor\":\"#2a3f5f\"},\"baxis\":{\"endlinecolor\":\"#2a3f5f\",\"gridcolor\":\"white\",\"linecolor\":\"white\",\"minorgridcolor\":\"white\",\"startlinecolor\":\"#2a3f5f\"},\"type\":\"carpet\"}],\"choropleth\":[{\"colorbar\":{\"outlinewidth\":0,\"ticks\":\"\"},\"type\":\"choropleth\"}],\"contourcarpet\":[{\"colorbar\":{\"outlinewidth\":0,\"ticks\":\"\"},\"type\":\"contourcarpet\"}],\"contour\":[{\"colorbar\":{\"outlinewidth\":0,\"ticks\":\"\"},\"colorscale\":[[0.0,\"#0d0887\"],[0.1111111111111111,\"#46039f\"],[0.2222222222222222,\"#7201a8\"],[0.3333333333333333,\"#9c179e\"],[0.4444444444444444,\"#bd3786\"],[0.5555555555555556,\"#d8576b\"],[0.6666666666666666,\"#ed7953\"],[0.7777777777777778,\"#fb9f3a\"],[0.8888888888888888,\"#fdca26\"],[1.0,\"#f0f921\"]],\"type\":\"contour\"}],\"heatmapgl\":[{\"colorbar\":{\"outlinewidth\":0,\"ticks\":\"\"},\"colorscale\":[[0.0,\"#0d0887\"],[0.1111111111111111,\"#46039f\"],[0.2222222222222222,\"#7201a8\"],[0.3333333333333333,\"#9c179e\"],[0.4444444444444444,\"#bd3786\"],[0.5555555555555556,\"#d8576b\"],[0.6666666666666666,\"#ed7953\"],[0.7777777777777778,\"#fb9f3a\"],[0.8888888888888888,\"#fdca26\"],[1.0,\"#f0f921\"]],\"type\":\"heatmapgl\"}],\"heatmap\":[{\"colorbar\":{\"outlinewidth\":0,\"ticks\":\"\"},\"colorscale\":[[0.0,\"#0d0887\"],[0.1111111111111111,\"#46039f\"],[0.2222222222222222,\"#7201a8\"],[0.3333333333333333,\"#9c179e\"],[0.4444444444444444,\"#bd3786\"],[0.5555555555555556,\"#d8576b\"],[0.6666666666666666,\"#ed7953\"],[0.7777777777777778,\"#fb9f3a\"],[0.8888888888888888,\"#fdca26\"],[1.0,\"#f0f921\"]],\"type\":\"heatmap\"}],\"histogram2dcontour\":[{\"colorbar\":{\"outlinewidth\":0,\"ticks\":\"\"},\"colorscale\":[[0.0,\"#0d0887\"],[0.1111111111111111,\"#46039f\"],[0.2222222222222222,\"#7201a8\"],[0.3333333333333333,\"#9c179e\"],[0.4444444444444444,\"#bd3786\"],[0.5555555555555556,\"#d8576b\"],[0.6666666666666666,\"#ed7953\"],[0.7777777777777778,\"#fb9f3a\"],[0.8888888888888888,\"#fdca26\"],[1.0,\"#f0f921\"]],\"type\":\"histogram2dcontour\"}],\"histogram2d\":[{\"colorbar\":{\"outlinewidth\":0,\"ticks\":\"\"},\"colorscale\":[[0.0,\"#0d0887\"],[0.1111111111111111,\"#46039f\"],[0.2222222222222222,\"#7201a8\"],[0.3333333333333333,\"#9c179e\"],[0.4444444444444444,\"#bd3786\"],[0.5555555555555556,\"#d8576b\"],[0.6666666666666666,\"#ed7953\"],[0.7777777777777778,\"#fb9f3a\"],[0.8888888888888888,\"#fdca26\"],[1.0,\"#f0f921\"]],\"type\":\"histogram2d\"}],\"histogram\":[{\"marker\":{\"pattern\":{\"fillmode\":\"overlay\",\"size\":10,\"solidity\":0.2}},\"type\":\"histogram\"}],\"mesh3d\":[{\"colorbar\":{\"outlinewidth\":0,\"ticks\":\"\"},\"type\":\"mesh3d\"}],\"parcoords\":[{\"line\":{\"colorbar\":{\"outlinewidth\":0,\"ticks\":\"\"}},\"type\":\"parcoords\"}],\"pie\":[{\"automargin\":true,\"type\":\"pie\"}],\"scatter3d\":[{\"line\":{\"colorbar\":{\"outlinewidth\":0,\"ticks\":\"\"}},\"marker\":{\"colorbar\":{\"outlinewidth\":0,\"ticks\":\"\"}},\"type\":\"scatter3d\"}],\"scattercarpet\":[{\"marker\":{\"colorbar\":{\"outlinewidth\":0,\"ticks\":\"\"}},\"type\":\"scattercarpet\"}],\"scattergeo\":[{\"marker\":{\"colorbar\":{\"outlinewidth\":0,\"ticks\":\"\"}},\"type\":\"scattergeo\"}],\"scattergl\":[{\"marker\":{\"colorbar\":{\"outlinewidth\":0,\"ticks\":\"\"}},\"type\":\"scattergl\"}],\"scattermapbox\":[{\"marker\":{\"colorbar\":{\"outlinewidth\":0,\"ticks\":\"\"}},\"type\":\"scattermapbox\"}],\"scatterpolargl\":[{\"marker\":{\"colorbar\":{\"outlinewidth\":0,\"ticks\":\"\"}},\"type\":\"scatterpolargl\"}],\"scatterpolar\":[{\"marker\":{\"colorbar\":{\"outlinewidth\":0,\"ticks\":\"\"}},\"type\":\"scatterpolar\"}],\"scatter\":[{\"fillpattern\":{\"fillmode\":\"overlay\",\"size\":10,\"solidity\":0.2},\"type\":\"scatter\"}],\"scatterternary\":[{\"marker\":{\"colorbar\":{\"outlinewidth\":0,\"ticks\":\"\"}},\"type\":\"scatterternary\"}],\"surface\":[{\"colorbar\":{\"outlinewidth\":0,\"ticks\":\"\"},\"colorscale\":[[0.0,\"#0d0887\"],[0.1111111111111111,\"#46039f\"],[0.2222222222222222,\"#7201a8\"],[0.3333333333333333,\"#9c179e\"],[0.4444444444444444,\"#bd3786\"],[0.5555555555555556,\"#d8576b\"],[0.6666666666666666,\"#ed7953\"],[0.7777777777777778,\"#fb9f3a\"],[0.8888888888888888,\"#fdca26\"],[1.0,\"#f0f921\"]],\"type\":\"surface\"}],\"table\":[{\"cells\":{\"fill\":{\"color\":\"#EBF0F8\"},\"line\":{\"color\":\"white\"}},\"header\":{\"fill\":{\"color\":\"#C8D4E3\"},\"line\":{\"color\":\"white\"}},\"type\":\"table\"}]},\"layout\":{\"annotationdefaults\":{\"arrowcolor\":\"#2a3f5f\",\"arrowhead\":0,\"arrowwidth\":1},\"autotypenumbers\":\"strict\",\"coloraxis\":{\"colorbar\":{\"outlinewidth\":0,\"ticks\":\"\"}},\"colorscale\":{\"diverging\":[[0,\"#8e0152\"],[0.1,\"#c51b7d\"],[0.2,\"#de77ae\"],[0.3,\"#f1b6da\"],[0.4,\"#fde0ef\"],[0.5,\"#f7f7f7\"],[0.6,\"#e6f5d0\"],[0.7,\"#b8e186\"],[0.8,\"#7fbc41\"],[0.9,\"#4d9221\"],[1,\"#276419\"]],\"sequential\":[[0.0,\"#0d0887\"],[0.1111111111111111,\"#46039f\"],[0.2222222222222222,\"#7201a8\"],[0.3333333333333333,\"#9c179e\"],[0.4444444444444444,\"#bd3786\"],[0.5555555555555556,\"#d8576b\"],[0.6666666666666666,\"#ed7953\"],[0.7777777777777778,\"#fb9f3a\"],[0.8888888888888888,\"#fdca26\"],[1.0,\"#f0f921\"]],\"sequentialminus\":[[0.0,\"#0d0887\"],[0.1111111111111111,\"#46039f\"],[0.2222222222222222,\"#7201a8\"],[0.3333333333333333,\"#9c179e\"],[0.4444444444444444,\"#bd3786\"],[0.5555555555555556,\"#d8576b\"],[0.6666666666666666,\"#ed7953\"],[0.7777777777777778,\"#fb9f3a\"],[0.8888888888888888,\"#fdca26\"],[1.0,\"#f0f921\"]]},\"colorway\":[\"#636efa\",\"#EF553B\",\"#00cc96\",\"#ab63fa\",\"#FFA15A\",\"#19d3f3\",\"#FF6692\",\"#B6E880\",\"#FF97FF\",\"#FECB52\"],\"font\":{\"color\":\"#2a3f5f\"},\"geo\":{\"bgcolor\":\"white\",\"lakecolor\":\"white\",\"landcolor\":\"#E5ECF6\",\"showlakes\":true,\"showland\":true,\"subunitcolor\":\"white\"},\"hoverlabel\":{\"align\":\"left\"},\"hovermode\":\"closest\",\"mapbox\":{\"style\":\"light\"},\"paper_bgcolor\":\"white\",\"plot_bgcolor\":\"#E5ECF6\",\"polar\":{\"angularaxis\":{\"gridcolor\":\"white\",\"linecolor\":\"white\",\"ticks\":\"\"},\"bgcolor\":\"#E5ECF6\",\"radialaxis\":{\"gridcolor\":\"white\",\"linecolor\":\"white\",\"ticks\":\"\"}},\"scene\":{\"xaxis\":{\"backgroundcolor\":\"#E5ECF6\",\"gridcolor\":\"white\",\"gridwidth\":2,\"linecolor\":\"white\",\"showbackground\":true,\"ticks\":\"\",\"zerolinecolor\":\"white\"},\"yaxis\":{\"backgroundcolor\":\"#E5ECF6\",\"gridcolor\":\"white\",\"gridwidth\":2,\"linecolor\":\"white\",\"showbackground\":true,\"ticks\":\"\",\"zerolinecolor\":\"white\"},\"zaxis\":{\"backgroundcolor\":\"#E5ECF6\",\"gridcolor\":\"white\",\"gridwidth\":2,\"linecolor\":\"white\",\"showbackground\":true,\"ticks\":\"\",\"zerolinecolor\":\"white\"}},\"shapedefaults\":{\"line\":{\"color\":\"#2a3f5f\"}},\"ternary\":{\"aaxis\":{\"gridcolor\":\"white\",\"linecolor\":\"white\",\"ticks\":\"\"},\"baxis\":{\"gridcolor\":\"white\",\"linecolor\":\"white\",\"ticks\":\"\"},\"bgcolor\":\"#E5ECF6\",\"caxis\":{\"gridcolor\":\"white\",\"linecolor\":\"white\",\"ticks\":\"\"}},\"title\":{\"x\":0.05},\"xaxis\":{\"automargin\":true,\"gridcolor\":\"white\",\"linecolor\":\"white\",\"ticks\":\"\",\"title\":{\"standoff\":15},\"zerolinecolor\":\"white\",\"zerolinewidth\":2},\"yaxis\":{\"automargin\":true,\"gridcolor\":\"white\",\"linecolor\":\"white\",\"ticks\":\"\",\"title\":{\"standoff\":15},\"zerolinecolor\":\"white\",\"zerolinewidth\":2}}},\"title\":{\"font\":{\"size\":20},\"text\":\"Frequency of Cities in top 10 ranking for diseases\"},\"width\":1000,\"yaxis\":{\"automargin\":true,\"tickmode\":\"array\",\"ticktext\":[\"Alabama\",\"West Virginia\",\"Virginia\",\"Virgin Islands\",\"Vermont\",\"Utah\",\"Puerto Rico\",\"Oregon\",\"New Mexico\",\"Nevada\",\"Wyoming\",\"Connecticut\",\"Alaska\",\"Oklahoma\",\"Hawaii\",\"Colorado\",\"Arkansas\",\"New Jersey\",\"New Hampshire\",\"Pennsylvania\",\"Nebraska\",\"Minnesota\",\"Michigan\",\"Maryland\",\"Maine\",\"Kentucky\",\"Kansas\",\"Iowa\",\"Washington\",\"Wisconsin\",\"Arizona\",\"South Dakota\",\"Rhode Island\",\"Illinois\",\"Ohio\",\"New York\",\"Delaware\",\"North Dakota\",\"Texas\",\"District of Columbia\",\"Montana\",\"Massachusetts\",\"Florida\",\"California\"]}},                        {\"responsive\": true}                    ).then(function(){\n",
       "                            \n",
       "var gd = document.getElementById('b87887a0-9ac8-4438-b9d3-3116822ca120');\n",
       "var x = new MutationObserver(function (mutations, observer) {{\n",
       "        var display = window.getComputedStyle(gd).display;\n",
       "        if (!display || display === 'none') {{\n",
       "            console.log([gd, 'removed!']);\n",
       "            Plotly.purge(gd);\n",
       "            observer.disconnect();\n",
       "        }}\n",
       "}});\n",
       "\n",
       "// Listen for the removal of the full notebook cells\n",
       "var notebookContainer = gd.closest('#notebook-container');\n",
       "if (notebookContainer) {{\n",
       "    x.observe(notebookContainer, {childList: true});\n",
       "}}\n",
       "\n",
       "// Listen for the clearing of the current output cell\n",
       "var outputEl = gd.closest('.output');\n",
       "if (outputEl) {{\n",
       "    x.observe(outputEl, {childList: true});\n",
       "}}\n",
       "\n",
       "                        })                };                });            </script>        </div>"
      ]
     },
     "metadata": {},
     "output_type": "display_data"
    }
   ],
   "source": [
    "num_cities = (\n",
    "    top_10_cities\n",
    "    .groupby('city')['Topic']\n",
    "    .nunique()\n",
    "    .to_frame('Number of times in top 10')\n",
    "    .reset_index()\n",
    "    .sort_values(['Number of times in top 10'], ascending=True) # Since the orientation is horizontal, the sort must be the inverse order of what I want\n",
    ")\n",
    "\n",
    "data = [go.Bar(\n",
    "            y=num_cities['city'],\n",
    "            x=num_cities['Number of times in top 10'],\n",
    "            orientation = 'h',\n",
    "            text=num_cities['Number of times in top 10']\n",
    "    )]\n",
    "\n",
    "layout = go.Layout(\n",
    "    title='Frequency of Cities in top 10 ranking for diseases',\n",
    "    titlefont=dict(size=20),\n",
    "    width=1000,\n",
    "    height=1400,\n",
    "    yaxis=go.layout.YAxis(\n",
    "        ticktext=num_cities['city'],\n",
    "        tickmode='array',\n",
    "        automargin=True\n",
    "    )\n",
    ")\n",
    "\n",
    "fig = go.Figure(data=data, layout=layout)\n",
    "\n",
    "iplot(fig)"
   ]
  },
  {
   "cell_type": "code",
   "execution_count": 24,
   "id": "6589dcbd",
   "metadata": {},
   "outputs": [
    {
     "data": {
      "image/png": "[encoded data removed]",
      "text/plain": [
       "<Figure size 640x480 with 1 Axes>"
      ]
     },
     "metadata": {},
     "output_type": "display_data"
    }
   ],
   "source": [
    "# create a new DataFrame containing only the rows for the column 'Alcohol'\n",
    "alcohol_df = df[df['Topic'] == 'Alcohol']\n",
    "\n",
    "# get the unique values of 'Question'\n",
    "unique_questions = alcohol_df['Question'].unique()\n",
    "\n",
    "# create a df to store the sum of 'DataValue' for each unique question\n",
    "q_data = {}\n",
    "\n",
    "# loop through the unique questions and calculate the sum of 'DataValue' for each of them\n",
    "for question in unique_questions:\n",
    "    q_data[question] = alcohol_df[alcohol_df['Question'] == question]['DataValue'].sum()\n",
    "\n",
    "# create a DataFrame from the dictionary\n",
    "question_df = pd.DataFrame.from_dict(q_data, orient='index', columns=['DataValue'])\n",
    "\n",
    "# sort the DataFrame by 'DataValue'\n",
    "question_df = question_df.sort_values(by='DataValue', ascending=False)\n",
    "\n",
    "# plot a bar graph of the sum of 'DataValue' for each unique question\n",
    "question_df.plot(kind='bar')\n",
    "\n",
    "# set the title and axis labels for the graph\n",
    "plt.title('Most frequest reasons listed for getting affected due to Alcohol')\n",
    "plt.xlabel('Question')\n",
    "plt.ylabel('DataValue')\n",
    "\n",
    "# rotate the x-axis labels to avoid overlapping\n",
    "plt.xticks(rotation=90)\n",
    "\n",
    "# display the graph\n",
    "plt.show()\n"
   ]
  },
  {
   "cell_type": "markdown",
   "id": "65605738",
   "metadata": {},
   "source": [
    "Results :\n",
    "\n",
    "As seen in the above charts, the most highly occured disease is 'Chronic Obstructive Pulmonary Disease' followed by 'Cardiovascular Disease' and 'Cancer'. And probability of a disease to occur is correlated to the location. Also listed Most frequest reasons listed for getting affected due to Alcohol. "
   ]
  },
  {
   "cell_type": "code",
   "execution_count": null,
   "id": "975d8640",
   "metadata": {},
   "outputs": [],
   "source": []
  }
 ],
 "metadata": {
  "kernelspec": {
   "display_name": "Python 3 (ipykernel)",
   "language": "python",
   "name": "python3"
  },
  "language_info": {
   "codemirror_mode": {
    "name": "ipython",
    "version": 3
   },
   "file_extension": ".py",
   "mimetype": "text/x-python",
   "name": "python",
   "nbconvert_exporter": "python",
   "pygments_lexer": "ipython3",
   "version": "3.9.13"
  }
 },
 "nbformat": 4,
 "nbformat_minor": 5
}
